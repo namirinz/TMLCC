{
 "cells": [
  {
   "cell_type": "code",
   "execution_count": 57,
   "source": [
    "import pandas as pd\n",
    "import numpy as np\n",
    "import json"
   ],
   "outputs": [],
   "metadata": {}
  },
  {
   "cell_type": "code",
   "execution_count": 58,
   "source": [
    "df_train = pd.read_csv('../data/raw/train.csv')\n",
    "\n",
    "df_train.head()"
   ],
   "outputs": [
    {
     "output_type": "execute_result",
     "data": {
      "text/html": [
       "<div>\n",
       "<style scoped>\n",
       "    .dataframe tbody tr th:only-of-type {\n",
       "        vertical-align: middle;\n",
       "    }\n",
       "\n",
       "    .dataframe tbody tr th {\n",
       "        vertical-align: top;\n",
       "    }\n",
       "\n",
       "    .dataframe thead th {\n",
       "        text-align: right;\n",
       "    }\n",
       "</style>\n",
       "<table border=\"1\" class=\"dataframe\">\n",
       "  <thead>\n",
       "    <tr style=\"text-align: right;\">\n",
       "      <th></th>\n",
       "      <th>MOFname</th>\n",
       "      <th>volume [A^3]</th>\n",
       "      <th>weight [u]</th>\n",
       "      <th>surface_area [m^2/g]</th>\n",
       "      <th>void_fraction</th>\n",
       "      <th>void_volume [cm^3/g]</th>\n",
       "      <th>functional_groups</th>\n",
       "      <th>metal_linker</th>\n",
       "      <th>organic_linker1</th>\n",
       "      <th>organic_linker2</th>\n",
       "      <th>topology</th>\n",
       "      <th>CO2/N2_selectivity</th>\n",
       "      <th>heat_adsorption_CO2_P0.15bar_T298K [kcal/mol]</th>\n",
       "      <th>CO2_working_capacity [mL/g]</th>\n",
       "    </tr>\n",
       "  </thead>\n",
       "  <tbody>\n",
       "    <tr>\n",
       "      <th>0</th>\n",
       "      <td>mof_unit_1</td>\n",
       "      <td>1116.667429</td>\n",
       "      <td>875.240600</td>\n",
       "      <td>0.00</td>\n",
       "      <td>0.07899</td>\n",
       "      <td>0.0607</td>\n",
       "      <td>COOH-OEt</td>\n",
       "      <td>3</td>\n",
       "      <td>4</td>\n",
       "      <td>11</td>\n",
       "      <td>pcu</td>\n",
       "      <td>22.864166</td>\n",
       "      <td>6.786041</td>\n",
       "      <td>105.284502</td>\n",
       "    </tr>\n",
       "    <tr>\n",
       "      <th>1</th>\n",
       "      <td>mof_unit_2</td>\n",
       "      <td>2769.503842</td>\n",
       "      <td>2211.697211</td>\n",
       "      <td>603.61</td>\n",
       "      <td>0.13794</td>\n",
       "      <td>0.1040</td>\n",
       "      <td>F-OMe</td>\n",
       "      <td>10</td>\n",
       "      <td>44</td>\n",
       "      <td>57</td>\n",
       "      <td>etb</td>\n",
       "      <td>33.616780</td>\n",
       "      <td>7.147286</td>\n",
       "      <td>101.224774</td>\n",
       "    </tr>\n",
       "    <tr>\n",
       "      <th>2</th>\n",
       "      <td>mof_unit_3</td>\n",
       "      <td>1089.818728</td>\n",
       "      <td>773.687960</td>\n",
       "      <td>788.50</td>\n",
       "      <td>0.14874</td>\n",
       "      <td>0.1262</td>\n",
       "      <td>OMe-COOH</td>\n",
       "      <td>2</td>\n",
       "      <td>22</td>\n",
       "      <td>24</td>\n",
       "      <td>pcu</td>\n",
       "      <td>19.263726</td>\n",
       "      <td>6.347967</td>\n",
       "      <td>118.987011</td>\n",
       "    </tr>\n",
       "    <tr>\n",
       "      <th>3</th>\n",
       "      <td>mof_unit_4</td>\n",
       "      <td>2205.198301</td>\n",
       "      <td>1304.638720</td>\n",
       "      <td>1441.53</td>\n",
       "      <td>0.21814</td>\n",
       "      <td>0.2220</td>\n",
       "      <td>H-SO3H</td>\n",
       "      <td>9</td>\n",
       "      <td>17</td>\n",
       "      <td>24</td>\n",
       "      <td>sra</td>\n",
       "      <td>25.701377</td>\n",
       "      <td>6.190085</td>\n",
       "      <td>187.626004</td>\n",
       "    </tr>\n",
       "    <tr>\n",
       "      <th>4</th>\n",
       "      <td>mof_unit_5</td>\n",
       "      <td>1137.800963</td>\n",
       "      <td>901.736120</td>\n",
       "      <td>0.00</td>\n",
       "      <td>0.07778</td>\n",
       "      <td>0.0591</td>\n",
       "      <td>NHMe-OH</td>\n",
       "      <td>2</td>\n",
       "      <td>1</td>\n",
       "      <td>22</td>\n",
       "      <td>pcu</td>\n",
       "      <td>30.001838</td>\n",
       "      <td>6.478063</td>\n",
       "      <td>79.210001</td>\n",
       "    </tr>\n",
       "  </tbody>\n",
       "</table>\n",
       "</div>"
      ],
      "text/plain": [
       "      MOFname  volume [A^3]   weight [u]  surface_area [m^2/g]  void_fraction  \\\n",
       "0  mof_unit_1   1116.667429   875.240600                  0.00        0.07899   \n",
       "1  mof_unit_2   2769.503842  2211.697211                603.61        0.13794   \n",
       "2  mof_unit_3   1089.818728   773.687960                788.50        0.14874   \n",
       "3  mof_unit_4   2205.198301  1304.638720               1441.53        0.21814   \n",
       "4  mof_unit_5   1137.800963   901.736120                  0.00        0.07778   \n",
       "\n",
       "   void_volume [cm^3/g] functional_groups  metal_linker  organic_linker1  \\\n",
       "0                0.0607          COOH-OEt             3                4   \n",
       "1                0.1040             F-OMe            10               44   \n",
       "2                0.1262          OMe-COOH             2               22   \n",
       "3                0.2220            H-SO3H             9               17   \n",
       "4                0.0591           NHMe-OH             2                1   \n",
       "\n",
       "   organic_linker2 topology  CO2/N2_selectivity  \\\n",
       "0               11      pcu           22.864166   \n",
       "1               57      etb           33.616780   \n",
       "2               24      pcu           19.263726   \n",
       "3               24      sra           25.701377   \n",
       "4               22      pcu           30.001838   \n",
       "\n",
       "   heat_adsorption_CO2_P0.15bar_T298K [kcal/mol]  CO2_working_capacity [mL/g]  \n",
       "0                                       6.786041                   105.284502  \n",
       "1                                       7.147286                   101.224774  \n",
       "2                                       6.347967                   118.987011  \n",
       "3                                       6.190085                   187.626004  \n",
       "4                                       6.478063                    79.210001  "
      ]
     },
     "metadata": {},
     "execution_count": 58
    }
   ],
   "metadata": {}
  },
  {
   "cell_type": "code",
   "execution_count": 59,
   "source": [
    "df_test = pd.read_csv('../data/raw/test.csv')\n",
    "\n",
    "df_test.head()"
   ],
   "outputs": [
    {
     "output_type": "execute_result",
     "data": {
      "text/html": [
       "<div>\n",
       "<style scoped>\n",
       "    .dataframe tbody tr th:only-of-type {\n",
       "        vertical-align: middle;\n",
       "    }\n",
       "\n",
       "    .dataframe tbody tr th {\n",
       "        vertical-align: top;\n",
       "    }\n",
       "\n",
       "    .dataframe thead th {\n",
       "        text-align: right;\n",
       "    }\n",
       "</style>\n",
       "<table border=\"1\" class=\"dataframe\">\n",
       "  <thead>\n",
       "    <tr style=\"text-align: right;\">\n",
       "      <th></th>\n",
       "      <th>MOFname</th>\n",
       "      <th>volume [A^3]</th>\n",
       "      <th>weight [u]</th>\n",
       "      <th>surface_area [m^2/g]</th>\n",
       "      <th>void_fraction</th>\n",
       "      <th>void_volume [cm^3/g]</th>\n",
       "      <th>functional_groups</th>\n",
       "      <th>metal_linker</th>\n",
       "      <th>organic_linker1</th>\n",
       "      <th>organic_linker2</th>\n",
       "      <th>topology</th>\n",
       "      <th>CO2/N2_selectivity</th>\n",
       "      <th>heat_adsorption_CO2_P0.15bar_T298K [kcal/mol]</th>\n",
       "    </tr>\n",
       "  </thead>\n",
       "  <tbody>\n",
       "    <tr>\n",
       "      <th>0</th>\n",
       "      <td>mof_unit_68614</td>\n",
       "      <td>1208.301332</td>\n",
       "      <td>797.70936</td>\n",
       "      <td>586.54</td>\n",
       "      <td>0.11392</td>\n",
       "      <td>0.1039</td>\n",
       "      <td>OEt</td>\n",
       "      <td>2</td>\n",
       "      <td>5</td>\n",
       "      <td>26</td>\n",
       "      <td>pcu</td>\n",
       "      <td>36.639791</td>\n",
       "      <td>7.005640</td>\n",
       "    </tr>\n",
       "    <tr>\n",
       "      <th>1</th>\n",
       "      <td>mof_unit_68615</td>\n",
       "      <td>4126.414623</td>\n",
       "      <td>3733.65779</td>\n",
       "      <td>852.49</td>\n",
       "      <td>0.21367</td>\n",
       "      <td>0.1422</td>\n",
       "      <td>H-I</td>\n",
       "      <td>4</td>\n",
       "      <td>6</td>\n",
       "      <td>17</td>\n",
       "      <td>acs</td>\n",
       "      <td>18.390691</td>\n",
       "      <td>5.119399</td>\n",
       "    </tr>\n",
       "    <tr>\n",
       "      <th>2</th>\n",
       "      <td>mof_unit_68616</td>\n",
       "      <td>1602.148373</td>\n",
       "      <td>747.21048</td>\n",
       "      <td>3155.73</td>\n",
       "      <td>0.33883</td>\n",
       "      <td>0.4375</td>\n",
       "      <td>CN-OH</td>\n",
       "      <td>3</td>\n",
       "      <td>11</td>\n",
       "      <td>17</td>\n",
       "      <td>pcu</td>\n",
       "      <td>13.062850</td>\n",
       "      <td>5.045400</td>\n",
       "    </tr>\n",
       "    <tr>\n",
       "      <th>3</th>\n",
       "      <td>mof_unit_68617</td>\n",
       "      <td>2436.629312</td>\n",
       "      <td>995.80232</td>\n",
       "      <td>3521.09</td>\n",
       "      <td>0.40464</td>\n",
       "      <td>0.5963</td>\n",
       "      <td>OMe</td>\n",
       "      <td>2</td>\n",
       "      <td>1</td>\n",
       "      <td>28</td>\n",
       "      <td>pcu</td>\n",
       "      <td>9.601198</td>\n",
       "      <td>5.106238</td>\n",
       "    </tr>\n",
       "    <tr>\n",
       "      <th>4</th>\n",
       "      <td>mof_unit_68618</td>\n",
       "      <td>3123.418006</td>\n",
       "      <td>1337.53800</td>\n",
       "      <td>2678.46</td>\n",
       "      <td>0.38959</td>\n",
       "      <td>0.5479</td>\n",
       "      <td>NO2-Pr</td>\n",
       "      <td>3</td>\n",
       "      <td>8</td>\n",
       "      <td>19</td>\n",
       "      <td>pcu</td>\n",
       "      <td>12.974954</td>\n",
       "      <td>5.287639</td>\n",
       "    </tr>\n",
       "  </tbody>\n",
       "</table>\n",
       "</div>"
      ],
      "text/plain": [
       "          MOFname  volume [A^3]  weight [u]  surface_area [m^2/g]  \\\n",
       "0  mof_unit_68614   1208.301332   797.70936                586.54   \n",
       "1  mof_unit_68615   4126.414623  3733.65779                852.49   \n",
       "2  mof_unit_68616   1602.148373   747.21048               3155.73   \n",
       "3  mof_unit_68617   2436.629312   995.80232               3521.09   \n",
       "4  mof_unit_68618   3123.418006  1337.53800               2678.46   \n",
       "\n",
       "   void_fraction  void_volume [cm^3/g] functional_groups  metal_linker  \\\n",
       "0        0.11392                0.1039               OEt             2   \n",
       "1        0.21367                0.1422               H-I             4   \n",
       "2        0.33883                0.4375             CN-OH             3   \n",
       "3        0.40464                0.5963               OMe             2   \n",
       "4        0.38959                0.5479            NO2-Pr             3   \n",
       "\n",
       "   organic_linker1  organic_linker2 topology  CO2/N2_selectivity  \\\n",
       "0                5               26      pcu           36.639791   \n",
       "1                6               17      acs           18.390691   \n",
       "2               11               17      pcu           13.062850   \n",
       "3                1               28      pcu            9.601198   \n",
       "4                8               19      pcu           12.974954   \n",
       "\n",
       "   heat_adsorption_CO2_P0.15bar_T298K [kcal/mol]  \n",
       "0                                       7.005640  \n",
       "1                                       5.119399  \n",
       "2                                       5.045400  \n",
       "3                                       5.106238  \n",
       "4                                       5.287639  "
      ]
     },
     "metadata": {},
     "execution_count": 59
    }
   ],
   "metadata": {}
  },
  {
   "cell_type": "code",
   "execution_count": 60,
   "source": [
    "map_old_new_colname = {\n",
    "    'heat_adsorption_CO2_P0.15bar_T298K [kcal/mol]': 'heat_adsorption',\n",
    "    'CO2/N2_selectivity': 'Co2N2_selectivity',\n",
    "    'CO2_working_capacity [mL/g]': 'CO2_working_capacity',\n",
    "    'volume [A^3]' : 'volume',\n",
    "    'weight [u]': 'weight',\n",
    "    'surface_area [m^2/g]': 'surface_area',\n",
    "    'void_volume [cm^3/g]': 'void_volume'\n",
    "}"
   ],
   "outputs": [],
   "metadata": {}
  },
  {
   "cell_type": "markdown",
   "source": [
    "# Training Dataset"
   ],
   "metadata": {}
  },
  {
   "cell_type": "code",
   "execution_count": 61,
   "source": [
    "df_train = df_train.rename(columns=map_old_new_colname)"
   ],
   "outputs": [],
   "metadata": {}
  },
  {
   "cell_type": "markdown",
   "source": [
    "## Topology"
   ],
   "metadata": {}
  },
  {
   "cell_type": "code",
   "execution_count": 62,
   "source": [
    "with open('../data/processed/mapping/topology.json', 'r') as f:\n",
    "    map_topology = json.load(f)"
   ],
   "outputs": [],
   "metadata": {}
  },
  {
   "cell_type": "code",
   "execution_count": 63,
   "source": [
    "df_train['topology'] = df_train['topology'].apply(lambda item: map_topology[item])\n",
    "df_train['topology'] = df_train['topology'].astype('category')"
   ],
   "outputs": [],
   "metadata": {}
  },
  {
   "cell_type": "markdown",
   "source": [
    "## Functional Groups"
   ],
   "metadata": {}
  },
  {
   "cell_type": "code",
   "execution_count": 64,
   "source": [
    "with open('../data/processed/mapping/func_group.json', 'r') as f:\n",
    "    map_func_group = json.load(f)"
   ],
   "outputs": [],
   "metadata": {}
  },
  {
   "cell_type": "code",
   "execution_count": 65,
   "source": [
    "print(map_func_group)"
   ],
   "outputs": [
    {
     "output_type": "stream",
     "name": "stdout",
     "text": [
      "{'NO2': 0, 'OMe': 1, 'SO3H': 2, 'OPr': 3, 'HCO': 4, 'OH': 5, 'Et': 6, 'NHMe': 7, 'Me': 8, 'OEt': 9, 'COOH': 10, 'H': 11, 'NH2': 12, 'Cl': 13, 'Pr': 14, 'F': 15, 'CN': 16, 'Br': 17, 'I': 18, 'Ph': 19}\n"
     ]
    }
   ],
   "metadata": {}
  },
  {
   "cell_type": "code",
   "execution_count": 66,
   "source": [
    "def try_map_func_group(value, index):\n",
    "    try:\n",
    "        if len(value) == 0:\n",
    "            return len(map_func_group)\n",
    "        elif len(value) == 1 and index == 1:\n",
    "            return len(map_func_group)\n",
    "        elif value[index] == 'H':\n",
    "            return len(map_func_group)\n",
    "        else:\n",
    "            return map_func_group[value[index]]\n",
    "    except TypeError:\n",
    "        return len(map_func_group)"
   ],
   "outputs": [],
   "metadata": {}
  },
  {
   "cell_type": "code",
   "execution_count": 67,
   "source": [
    "df_train['functional_groups'] = df_train['functional_groups'].str.split('-')\n",
    "df_train['functional_groups1'] = df_train['functional_groups'].apply(lambda item: try_map_func_group(item, 0))\n",
    "df_train['functional_groups1'] = df_train['functional_groups1'].astype('category')\n",
    "\n",
    "df_train['functional_groups2'] = df_train['functional_groups'].apply(lambda item: try_map_func_group(item, 1))\n",
    "df_train['functional_groups2'] = df_train['functional_groups2'].astype('category')"
   ],
   "outputs": [],
   "metadata": {}
  },
  {
   "cell_type": "markdown",
   "source": [
    "## Droping"
   ],
   "metadata": {}
  },
  {
   "cell_type": "code",
   "execution_count": 68,
   "source": [
    "col_to_drop = ['MOFname', 'functional_groups']\n",
    "col_to_drop = col_to_drop + ['volume', 'weight', 'surface_area', 'void_fraction', 'void_volume']\n",
    "\n",
    "df_train = df_train.drop(columns=col_to_drop)"
   ],
   "outputs": [],
   "metadata": {}
  },
  {
   "cell_type": "code",
   "execution_count": 69,
   "source": [
    "df_train.replace({np.inf,- np.inf}, np.nan, inplace=True)\n",
    "df_train['heat_adsorption'].isna().sum()"
   ],
   "outputs": [
    {
     "output_type": "execute_result",
     "data": {
      "text/plain": [
       "2089"
      ]
     },
     "metadata": {},
     "execution_count": 69
    }
   ],
   "metadata": {}
  },
  {
   "cell_type": "code",
   "execution_count": 70,
   "source": [
    "df_train_drop_nan = df_train[~df_train['heat_adsorption'].isna()]"
   ],
   "outputs": [],
   "metadata": {}
  },
  {
   "cell_type": "markdown",
   "source": [
    "## Export Training Processed"
   ],
   "metadata": {}
  },
  {
   "cell_type": "code",
   "execution_count": 71,
   "source": [
    "train_save_filename = input('Enter Train processed filename: ')\n",
    "\n",
    "df_train_drop_nan.to_csv(f'../data/processed/train/{train_save_filename}.csv', index=False)"
   ],
   "outputs": [],
   "metadata": {}
  },
  {
   "cell_type": "markdown",
   "source": [
    "# Testing Dataset"
   ],
   "metadata": {}
  },
  {
   "cell_type": "code",
   "execution_count": 72,
   "source": [
    "df_test = df_test.rename(columns=map_old_new_colname)"
   ],
   "outputs": [],
   "metadata": {}
  },
  {
   "cell_type": "code",
   "execution_count": 73,
   "source": [
    "df_test['topology'] = df_test['topology'].apply(lambda item: map_topology[item])\n",
    "df_test['topology'] = df_test['topology'].astype('category')"
   ],
   "outputs": [],
   "metadata": {}
  },
  {
   "cell_type": "code",
   "execution_count": 74,
   "source": [
    "df_test['functional_groups'] = df_test['functional_groups'].str.split('-')\n",
    "df_test['functional_groups1'] = df_test['functional_groups'].apply(lambda item: try_map_func_group(item, 0))\n",
    "df_test['functional_groups1'] = df_test['functional_groups1'].astype('category')\n",
    "\n",
    "df_test['functional_groups2'] = df_test['functional_groups'].apply(lambda item: try_map_func_group(item, 1))\n",
    "df_test['functional_groups2'] = df_test['functional_groups2'].astype('category')"
   ],
   "outputs": [],
   "metadata": {}
  },
  {
   "cell_type": "code",
   "execution_count": 75,
   "source": [
    "col_to_drop = ['MOFname', 'functional_groups']\n",
    "col_to_drop = col_to_drop + ['volume', 'weight', 'surface_area', 'void_fraction', 'void_volume']\n",
    "\n",
    "df_test = df_test.drop(columns=col_to_drop)"
   ],
   "outputs": [],
   "metadata": {}
  },
  {
   "cell_type": "code",
   "execution_count": 76,
   "source": [
    "len(df_test.columns), len(df_train.columns)"
   ],
   "outputs": [
    {
     "output_type": "execute_result",
     "data": {
      "text/plain": [
       "(8, 9)"
      ]
     },
     "metadata": {},
     "execution_count": 76
    }
   ],
   "metadata": {}
  },
  {
   "cell_type": "code",
   "execution_count": 77,
   "source": [
    "test_save_filename = input('Enter Test processed filename: ')\n",
    "df_test.to_csv(f'../data/processed/test/{test_save_filename}.csv', index=False)"
   ],
   "outputs": [],
   "metadata": {}
  }
 ],
 "metadata": {
  "orig_nbformat": 4,
  "language_info": {
   "name": "python",
   "version": "3.9.7",
   "mimetype": "text/x-python",
   "codemirror_mode": {
    "name": "ipython",
    "version": 3
   },
   "pygments_lexer": "ipython3",
   "nbconvert_exporter": "python",
   "file_extension": ".py"
  },
  "kernelspec": {
   "name": "python3",
   "display_name": "Python 3.9.7 64-bit ('tmlcc': conda)"
  },
  "interpreter": {
   "hash": "67ea0d9204db5bdecfce39490d0c4d3d58ff550c32e4f38c3bdfb4af27038360"
  }
 },
 "nbformat": 4,
 "nbformat_minor": 2
}