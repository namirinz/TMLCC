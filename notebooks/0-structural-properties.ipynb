{
 "cells": [
  {
   "cell_type": "markdown",
   "source": [
    "# Extracting Structural Properties of MOFs"
   ],
   "metadata": {
    "tags": [],
    "cell_id": "00000-020fac4a-50c9-4677-a541-2b5839c60ad3",
    "deepnote_cell_type": "markdown"
   }
  },
  {
   "cell_type": "markdown",
   "source": [
    "โดย รังสิมันต์ เกษแก้ว <br>\n",
    "มหาวิทยาลัยแห่งซูริค <br>\n",
    "E-mail: rangsiman1993@gmail.com"
   ],
   "metadata": {
    "tags": [],
    "cell_id": "00001-cf1f57d3-793b-4192-92dd-412fdd08f108",
    "deepnote_cell_type": "markdown"
   }
  },
  {
   "cell_type": "markdown",
   "source": [
    "ในบทเรียนนี้เราจะมาทำความเข้าใจ training set และวิธีการคำนวณคุณสมบัติเชิงโครงสร้างของ MOF \n",
    "- ความหนาแน่น (Density)\n",
    "- Gravimetric Surface Area (GSA)\n",
    "- Volumetric Surface Area (VSA) \n",
    "\n",
    "โดยหน่วยของ GSA มักจะรายงานเป็น $m^{2}/g$ นั่นก็คือ พื้นที่ผิว (ตารางเมตร) ต่อ MOF 1 กรัม <br>\n",
    "และหน่วยของ VSA มักจะรายงานเป็น $m^{2}/cm^{3}$ นั่นก็คือ พื้นที่ผิว (ตารางเมตร) ต่อ MOF 1 ลูกบาศก์เซนติเมตร"
   ],
   "metadata": {
    "tags": [],
    "cell_id": "00001-5646e311-82be-4d5c-83da-6ea26f8178a7",
    "deepnote_cell_type": "markdown"
   }
  },
  {
   "cell_type": "markdown",
   "source": [
    "## 0. Import everything you need"
   ],
   "metadata": {
    "tags": [],
    "cell_id": "00000-13bdddb9-da4d-483e-bfea-bb15d75d14ec",
    "deepnote_cell_type": "markdown"
   }
  },
  {
   "cell_type": "code",
   "execution_count": 47,
   "source": [
    "import os\n",
    "import sys\n",
    "import re\n",
    "import copy\n",
    "import string\n",
    "import math\n",
    "import numpy as np\n",
    "import pandas as pd\n",
    "from ase.io import read\n",
    "\n",
    "from operator import itemgetter\n",
    "from itertools import groupby"
   ],
   "outputs": [],
   "metadata": {
    "tags": [],
    "cell_id": "00000-287ea61e-f222-42aa-8805-d10d1c05bad4",
    "deepnote_to_be_reexecuted": false,
    "source_hash": "1526576f",
    "execution_start": 1632653963108,
    "execution_millis": 2,
    "deepnote_cell_type": "code"
   }
  },
  {
   "cell_type": "code",
   "execution_count": 48,
   "source": [
    "DATA_DIR = '../dataset/'\n",
    "DATA_FILE = os.path.join(DATA_DIR, 'train.csv')"
   ],
   "outputs": [],
   "metadata": {
    "tags": [],
    "cell_id": "00006-95f773c2-829f-4214-945b-8da726d872d6",
    "deepnote_to_be_reexecuted": false,
    "source_hash": "2300cda1",
    "execution_start": 1632653963114,
    "execution_millis": 4,
    "deepnote_cell_type": "code"
   }
  },
  {
   "cell_type": "markdown",
   "source": [
    "## 1. Import the data"
   ],
   "metadata": {
    "tags": [],
    "cell_id": "00005-b1586bed-2fa1-4c6e-b293-4dfc1eab6297",
    "deepnote_cell_type": "markdown"
   }
  },
  {
   "cell_type": "code",
   "execution_count": 49,
   "source": [
    "df = pd.read_csv(DATA_FILE)\n",
    "df.shape"
   ],
   "outputs": [
    {
     "output_type": "error",
     "ename": "FileNotFoundError",
     "evalue": "[Errno 2] No such file or directory: '../dataset/train.csv'",
     "traceback": [
      "\u001b[0;31m---------------------------------------------------------------------------\u001b[0m",
      "\u001b[0;31mFileNotFoundError\u001b[0m                         Traceback (most recent call last)",
      "\u001b[0;32m/tmp/ipykernel_85549/2372360331.py\u001b[0m in \u001b[0;36m<module>\u001b[0;34m\u001b[0m\n\u001b[0;32m----> 1\u001b[0;31m \u001b[0mdf\u001b[0m \u001b[0;34m=\u001b[0m \u001b[0mpd\u001b[0m\u001b[0;34m.\u001b[0m\u001b[0mread_csv\u001b[0m\u001b[0;34m(\u001b[0m\u001b[0mDATA_FILE\u001b[0m\u001b[0;34m)\u001b[0m\u001b[0;34m\u001b[0m\u001b[0;34m\u001b[0m\u001b[0m\n\u001b[0m\u001b[1;32m      2\u001b[0m \u001b[0mdf\u001b[0m\u001b[0;34m.\u001b[0m\u001b[0mshape\u001b[0m\u001b[0;34m\u001b[0m\u001b[0;34m\u001b[0m\u001b[0m\n",
      "\u001b[0;32m~/miniconda3/envs/tmlcc/lib/python3.9/site-packages/pandas/util/_decorators.py\u001b[0m in \u001b[0;36mwrapper\u001b[0;34m(*args, **kwargs)\u001b[0m\n\u001b[1;32m    309\u001b[0m                     \u001b[0mstacklevel\u001b[0m\u001b[0;34m=\u001b[0m\u001b[0mstacklevel\u001b[0m\u001b[0;34m,\u001b[0m\u001b[0;34m\u001b[0m\u001b[0;34m\u001b[0m\u001b[0m\n\u001b[1;32m    310\u001b[0m                 )\n\u001b[0;32m--> 311\u001b[0;31m             \u001b[0;32mreturn\u001b[0m \u001b[0mfunc\u001b[0m\u001b[0;34m(\u001b[0m\u001b[0;34m*\u001b[0m\u001b[0margs\u001b[0m\u001b[0;34m,\u001b[0m \u001b[0;34m**\u001b[0m\u001b[0mkwargs\u001b[0m\u001b[0;34m)\u001b[0m\u001b[0;34m\u001b[0m\u001b[0;34m\u001b[0m\u001b[0m\n\u001b[0m\u001b[1;32m    312\u001b[0m \u001b[0;34m\u001b[0m\u001b[0m\n\u001b[1;32m    313\u001b[0m         \u001b[0;32mreturn\u001b[0m \u001b[0mwrapper\u001b[0m\u001b[0;34m\u001b[0m\u001b[0;34m\u001b[0m\u001b[0m\n",
      "\u001b[0;32m~/miniconda3/envs/tmlcc/lib/python3.9/site-packages/pandas/io/parsers/readers.py\u001b[0m in \u001b[0;36mread_csv\u001b[0;34m(filepath_or_buffer, sep, delimiter, header, names, index_col, usecols, squeeze, prefix, mangle_dupe_cols, dtype, engine, converters, true_values, false_values, skipinitialspace, skiprows, skipfooter, nrows, na_values, keep_default_na, na_filter, verbose, skip_blank_lines, parse_dates, infer_datetime_format, keep_date_col, date_parser, dayfirst, cache_dates, iterator, chunksize, compression, thousands, decimal, lineterminator, quotechar, quoting, doublequote, escapechar, comment, encoding, encoding_errors, dialect, error_bad_lines, warn_bad_lines, on_bad_lines, delim_whitespace, low_memory, memory_map, float_precision, storage_options)\u001b[0m\n\u001b[1;32m    584\u001b[0m     \u001b[0mkwds\u001b[0m\u001b[0;34m.\u001b[0m\u001b[0mupdate\u001b[0m\u001b[0;34m(\u001b[0m\u001b[0mkwds_defaults\u001b[0m\u001b[0;34m)\u001b[0m\u001b[0;34m\u001b[0m\u001b[0;34m\u001b[0m\u001b[0m\n\u001b[1;32m    585\u001b[0m \u001b[0;34m\u001b[0m\u001b[0m\n\u001b[0;32m--> 586\u001b[0;31m     \u001b[0;32mreturn\u001b[0m \u001b[0m_read\u001b[0m\u001b[0;34m(\u001b[0m\u001b[0mfilepath_or_buffer\u001b[0m\u001b[0;34m,\u001b[0m \u001b[0mkwds\u001b[0m\u001b[0;34m)\u001b[0m\u001b[0;34m\u001b[0m\u001b[0;34m\u001b[0m\u001b[0m\n\u001b[0m\u001b[1;32m    587\u001b[0m \u001b[0;34m\u001b[0m\u001b[0m\n\u001b[1;32m    588\u001b[0m \u001b[0;34m\u001b[0m\u001b[0m\n",
      "\u001b[0;32m~/miniconda3/envs/tmlcc/lib/python3.9/site-packages/pandas/io/parsers/readers.py\u001b[0m in \u001b[0;36m_read\u001b[0;34m(filepath_or_buffer, kwds)\u001b[0m\n\u001b[1;32m    480\u001b[0m \u001b[0;34m\u001b[0m\u001b[0m\n\u001b[1;32m    481\u001b[0m     \u001b[0;31m# Create the parser.\u001b[0m\u001b[0;34m\u001b[0m\u001b[0;34m\u001b[0m\u001b[0m\n\u001b[0;32m--> 482\u001b[0;31m     \u001b[0mparser\u001b[0m \u001b[0;34m=\u001b[0m \u001b[0mTextFileReader\u001b[0m\u001b[0;34m(\u001b[0m\u001b[0mfilepath_or_buffer\u001b[0m\u001b[0;34m,\u001b[0m \u001b[0;34m**\u001b[0m\u001b[0mkwds\u001b[0m\u001b[0;34m)\u001b[0m\u001b[0;34m\u001b[0m\u001b[0;34m\u001b[0m\u001b[0m\n\u001b[0m\u001b[1;32m    483\u001b[0m \u001b[0;34m\u001b[0m\u001b[0m\n\u001b[1;32m    484\u001b[0m     \u001b[0;32mif\u001b[0m \u001b[0mchunksize\u001b[0m \u001b[0;32mor\u001b[0m \u001b[0miterator\u001b[0m\u001b[0;34m:\u001b[0m\u001b[0;34m\u001b[0m\u001b[0;34m\u001b[0m\u001b[0m\n",
      "\u001b[0;32m~/miniconda3/envs/tmlcc/lib/python3.9/site-packages/pandas/io/parsers/readers.py\u001b[0m in \u001b[0;36m__init__\u001b[0;34m(self, f, engine, **kwds)\u001b[0m\n\u001b[1;32m    809\u001b[0m             \u001b[0mself\u001b[0m\u001b[0;34m.\u001b[0m\u001b[0moptions\u001b[0m\u001b[0;34m[\u001b[0m\u001b[0;34m\"has_index_names\"\u001b[0m\u001b[0;34m]\u001b[0m \u001b[0;34m=\u001b[0m \u001b[0mkwds\u001b[0m\u001b[0;34m[\u001b[0m\u001b[0;34m\"has_index_names\"\u001b[0m\u001b[0;34m]\u001b[0m\u001b[0;34m\u001b[0m\u001b[0;34m\u001b[0m\u001b[0m\n\u001b[1;32m    810\u001b[0m \u001b[0;34m\u001b[0m\u001b[0m\n\u001b[0;32m--> 811\u001b[0;31m         \u001b[0mself\u001b[0m\u001b[0;34m.\u001b[0m\u001b[0m_engine\u001b[0m \u001b[0;34m=\u001b[0m \u001b[0mself\u001b[0m\u001b[0;34m.\u001b[0m\u001b[0m_make_engine\u001b[0m\u001b[0;34m(\u001b[0m\u001b[0mself\u001b[0m\u001b[0;34m.\u001b[0m\u001b[0mengine\u001b[0m\u001b[0;34m)\u001b[0m\u001b[0;34m\u001b[0m\u001b[0;34m\u001b[0m\u001b[0m\n\u001b[0m\u001b[1;32m    812\u001b[0m \u001b[0;34m\u001b[0m\u001b[0m\n\u001b[1;32m    813\u001b[0m     \u001b[0;32mdef\u001b[0m \u001b[0mclose\u001b[0m\u001b[0;34m(\u001b[0m\u001b[0mself\u001b[0m\u001b[0;34m)\u001b[0m\u001b[0;34m:\u001b[0m\u001b[0;34m\u001b[0m\u001b[0;34m\u001b[0m\u001b[0m\n",
      "\u001b[0;32m~/miniconda3/envs/tmlcc/lib/python3.9/site-packages/pandas/io/parsers/readers.py\u001b[0m in \u001b[0;36m_make_engine\u001b[0;34m(self, engine)\u001b[0m\n\u001b[1;32m   1038\u001b[0m             )\n\u001b[1;32m   1039\u001b[0m         \u001b[0;31m# error: Too many arguments for \"ParserBase\"\u001b[0m\u001b[0;34m\u001b[0m\u001b[0;34m\u001b[0m\u001b[0m\n\u001b[0;32m-> 1040\u001b[0;31m         \u001b[0;32mreturn\u001b[0m \u001b[0mmapping\u001b[0m\u001b[0;34m[\u001b[0m\u001b[0mengine\u001b[0m\u001b[0;34m]\u001b[0m\u001b[0;34m(\u001b[0m\u001b[0mself\u001b[0m\u001b[0;34m.\u001b[0m\u001b[0mf\u001b[0m\u001b[0;34m,\u001b[0m \u001b[0;34m**\u001b[0m\u001b[0mself\u001b[0m\u001b[0;34m.\u001b[0m\u001b[0moptions\u001b[0m\u001b[0;34m)\u001b[0m  \u001b[0;31m# type: ignore[call-arg]\u001b[0m\u001b[0;34m\u001b[0m\u001b[0;34m\u001b[0m\u001b[0m\n\u001b[0m\u001b[1;32m   1041\u001b[0m \u001b[0;34m\u001b[0m\u001b[0m\n\u001b[1;32m   1042\u001b[0m     \u001b[0;32mdef\u001b[0m \u001b[0m_failover_to_python\u001b[0m\u001b[0;34m(\u001b[0m\u001b[0mself\u001b[0m\u001b[0;34m)\u001b[0m\u001b[0;34m:\u001b[0m\u001b[0;34m\u001b[0m\u001b[0;34m\u001b[0m\u001b[0m\n",
      "\u001b[0;32m~/miniconda3/envs/tmlcc/lib/python3.9/site-packages/pandas/io/parsers/c_parser_wrapper.py\u001b[0m in \u001b[0;36m__init__\u001b[0;34m(self, src, **kwds)\u001b[0m\n\u001b[1;32m     49\u001b[0m \u001b[0;34m\u001b[0m\u001b[0m\n\u001b[1;32m     50\u001b[0m         \u001b[0;31m# open handles\u001b[0m\u001b[0;34m\u001b[0m\u001b[0;34m\u001b[0m\u001b[0m\n\u001b[0;32m---> 51\u001b[0;31m         \u001b[0mself\u001b[0m\u001b[0;34m.\u001b[0m\u001b[0m_open_handles\u001b[0m\u001b[0;34m(\u001b[0m\u001b[0msrc\u001b[0m\u001b[0;34m,\u001b[0m \u001b[0mkwds\u001b[0m\u001b[0;34m)\u001b[0m\u001b[0;34m\u001b[0m\u001b[0;34m\u001b[0m\u001b[0m\n\u001b[0m\u001b[1;32m     52\u001b[0m         \u001b[0;32massert\u001b[0m \u001b[0mself\u001b[0m\u001b[0;34m.\u001b[0m\u001b[0mhandles\u001b[0m \u001b[0;32mis\u001b[0m \u001b[0;32mnot\u001b[0m \u001b[0;32mNone\u001b[0m\u001b[0;34m\u001b[0m\u001b[0;34m\u001b[0m\u001b[0m\n\u001b[1;32m     53\u001b[0m \u001b[0;34m\u001b[0m\u001b[0m\n",
      "\u001b[0;32m~/miniconda3/envs/tmlcc/lib/python3.9/site-packages/pandas/io/parsers/base_parser.py\u001b[0m in \u001b[0;36m_open_handles\u001b[0;34m(self, src, kwds)\u001b[0m\n\u001b[1;32m    220\u001b[0m         \u001b[0mLet\u001b[0m \u001b[0mthe\u001b[0m \u001b[0mreaders\u001b[0m \u001b[0mopen\u001b[0m \u001b[0mIOHandles\u001b[0m \u001b[0mafter\u001b[0m \u001b[0mthey\u001b[0m \u001b[0mare\u001b[0m \u001b[0mdone\u001b[0m \u001b[0;32mwith\u001b[0m \u001b[0mtheir\u001b[0m \u001b[0mpotential\u001b[0m \u001b[0mraises\u001b[0m\u001b[0;34m.\u001b[0m\u001b[0;34m\u001b[0m\u001b[0;34m\u001b[0m\u001b[0m\n\u001b[1;32m    221\u001b[0m         \"\"\"\n\u001b[0;32m--> 222\u001b[0;31m         self.handles = get_handle(\n\u001b[0m\u001b[1;32m    223\u001b[0m             \u001b[0msrc\u001b[0m\u001b[0;34m,\u001b[0m\u001b[0;34m\u001b[0m\u001b[0;34m\u001b[0m\u001b[0m\n\u001b[1;32m    224\u001b[0m             \u001b[0;34m\"r\"\u001b[0m\u001b[0;34m,\u001b[0m\u001b[0;34m\u001b[0m\u001b[0;34m\u001b[0m\u001b[0m\n",
      "\u001b[0;32m~/miniconda3/envs/tmlcc/lib/python3.9/site-packages/pandas/io/common.py\u001b[0m in \u001b[0;36mget_handle\u001b[0;34m(path_or_buf, mode, encoding, compression, memory_map, is_text, errors, storage_options)\u001b[0m\n\u001b[1;32m    699\u001b[0m         \u001b[0;32mif\u001b[0m \u001b[0mioargs\u001b[0m\u001b[0;34m.\u001b[0m\u001b[0mencoding\u001b[0m \u001b[0;32mand\u001b[0m \u001b[0;34m\"b\"\u001b[0m \u001b[0;32mnot\u001b[0m \u001b[0;32min\u001b[0m \u001b[0mioargs\u001b[0m\u001b[0;34m.\u001b[0m\u001b[0mmode\u001b[0m\u001b[0;34m:\u001b[0m\u001b[0;34m\u001b[0m\u001b[0;34m\u001b[0m\u001b[0m\n\u001b[1;32m    700\u001b[0m             \u001b[0;31m# Encoding\u001b[0m\u001b[0;34m\u001b[0m\u001b[0;34m\u001b[0m\u001b[0m\n\u001b[0;32m--> 701\u001b[0;31m             handle = open(\n\u001b[0m\u001b[1;32m    702\u001b[0m                 \u001b[0mhandle\u001b[0m\u001b[0;34m,\u001b[0m\u001b[0;34m\u001b[0m\u001b[0;34m\u001b[0m\u001b[0m\n\u001b[1;32m    703\u001b[0m                 \u001b[0mioargs\u001b[0m\u001b[0;34m.\u001b[0m\u001b[0mmode\u001b[0m\u001b[0;34m,\u001b[0m\u001b[0;34m\u001b[0m\u001b[0;34m\u001b[0m\u001b[0m\n",
      "\u001b[0;31mFileNotFoundError\u001b[0m: [Errno 2] No such file or directory: '../dataset/train.csv'"
     ]
    }
   ],
   "metadata": {
    "tags": [],
    "cell_id": "00007-2c173920-71c5-4284-b60e-669acbdb49a1",
    "deepnote_to_be_reexecuted": false,
    "source_hash": "f0a2ea70",
    "execution_start": 1632653963123,
    "execution_millis": 209,
    "deepnote_cell_type": "code"
   }
  },
  {
   "cell_type": "markdown",
   "source": [
    "Let's take a look at the first few rows to see if everythings seems reasonable ..."
   ],
   "metadata": {
    "tags": [],
    "cell_id": "00007-9d06cd5b-a505-49c1-b9f6-7bc1a1b3957b",
    "deepnote_cell_type": "markdown"
   }
  },
  {
   "cell_type": "code",
   "execution_count": null,
   "source": [
    "df.head()"
   ],
   "outputs": [
    {
     "output_type": "execute_result",
     "data": {
      "application/vnd.deepnote.dataframe.v2+json": {
       "row_count": 5,
       "column_count": 14,
       "columns": [
        {
         "name": "MOFname",
         "dtype": "object",
         "stats": {
          "unique_count": 5,
          "nan_count": 0,
          "categories": [
           {
            "name": "mof_unit_1",
            "count": 1
           },
           {
            "name": "mof_unit_2",
            "count": 1
           },
           {
            "name": "3 others",
            "count": 3
           }
          ]
         }
        },
        {
         "name": "volume [A^3]",
         "dtype": "float64",
         "stats": {
          "unique_count": 5,
          "nan_count": 0,
          "min": "1089.818728",
          "max": "2769.503842",
          "histogram": [
           {
            "bin_start": 1089.818728,
            "bin_end": 1257.7872394,
            "count": 3
           },
           {
            "bin_start": 1257.7872394,
            "bin_end": 1425.7557508,
            "count": 0
           },
           {
            "bin_start": 1425.7557508,
            "bin_end": 1593.7242621999999,
            "count": 0
           },
           {
            "bin_start": 1593.7242621999999,
            "bin_end": 1761.6927736,
            "count": 0
           },
           {
            "bin_start": 1761.6927736,
            "bin_end": 1929.6612850000001,
            "count": 0
           },
           {
            "bin_start": 1929.6612850000001,
            "bin_end": 2097.6297964,
            "count": 0
           },
           {
            "bin_start": 2097.6297964,
            "bin_end": 2265.5983078,
            "count": 1
           },
           {
            "bin_start": 2265.5983078,
            "bin_end": 2433.5668192000003,
            "count": 0
           },
           {
            "bin_start": 2433.5668192000003,
            "bin_end": 2601.5353305999997,
            "count": 0
           },
           {
            "bin_start": 2601.5353305999997,
            "bin_end": 2769.503842,
            "count": 1
           }
          ]
         }
        },
        {
         "name": "weight [u]",
         "dtype": "float64",
         "stats": {
          "unique_count": 5,
          "nan_count": 0,
          "min": "773.68796",
          "max": "2211.697211",
          "histogram": [
           {
            "bin_start": 773.68796,
            "bin_end": 917.4888851000001,
            "count": 3
           },
           {
            "bin_start": 917.4888851000001,
            "bin_end": 1061.2898102,
            "count": 0
           },
           {
            "bin_start": 1061.2898102,
            "bin_end": 1205.0907353,
            "count": 0
           },
           {
            "bin_start": 1205.0907353,
            "bin_end": 1348.8916604,
            "count": 1
           },
           {
            "bin_start": 1348.8916604,
            "bin_end": 1492.6925855000002,
            "count": 0
           },
           {
            "bin_start": 1492.6925855000002,
            "bin_end": 1636.4935106000003,
            "count": 0
           },
           {
            "bin_start": 1636.4935106000003,
            "bin_end": 1780.2944357000001,
            "count": 0
           },
           {
            "bin_start": 1780.2944357000001,
            "bin_end": 1924.0953608000002,
            "count": 0
           },
           {
            "bin_start": 1924.0953608000002,
            "bin_end": 2067.8962859000003,
            "count": 0
           },
           {
            "bin_start": 2067.8962859000003,
            "bin_end": 2211.697211,
            "count": 1
           }
          ]
         }
        },
        {
         "name": "surface_area [m^2/g]",
         "dtype": "float64",
         "stats": {
          "unique_count": 4,
          "nan_count": 0,
          "min": "0.0",
          "max": "1441.53",
          "histogram": [
           {
            "bin_start": 0,
            "bin_end": 144.153,
            "count": 2
           },
           {
            "bin_start": 144.153,
            "bin_end": 288.306,
            "count": 0
           },
           {
            "bin_start": 288.306,
            "bin_end": 432.45899999999995,
            "count": 0
           },
           {
            "bin_start": 432.45899999999995,
            "bin_end": 576.612,
            "count": 0
           },
           {
            "bin_start": 576.612,
            "bin_end": 720.765,
            "count": 1
           },
           {
            "bin_start": 720.765,
            "bin_end": 864.9179999999999,
            "count": 1
           },
           {
            "bin_start": 864.9179999999999,
            "bin_end": 1009.0709999999999,
            "count": 0
           },
           {
            "bin_start": 1009.0709999999999,
            "bin_end": 1153.224,
            "count": 0
           },
           {
            "bin_start": 1153.224,
            "bin_end": 1297.377,
            "count": 0
           },
           {
            "bin_start": 1297.377,
            "bin_end": 1441.53,
            "count": 1
           }
          ]
         }
        },
        {
         "name": "void_fraction",
         "dtype": "float64",
         "stats": {
          "unique_count": 5,
          "nan_count": 0,
          "min": "0.07778",
          "max": "0.21814",
          "histogram": [
           {
            "bin_start": 0.07778,
            "bin_end": 0.091816,
            "count": 2
           },
           {
            "bin_start": 0.091816,
            "bin_end": 0.105852,
            "count": 0
           },
           {
            "bin_start": 0.105852,
            "bin_end": 0.119888,
            "count": 0
           },
           {
            "bin_start": 0.119888,
            "bin_end": 0.133924,
            "count": 0
           },
           {
            "bin_start": 0.133924,
            "bin_end": 0.14795999999999998,
            "count": 1
           },
           {
            "bin_start": 0.14795999999999998,
            "bin_end": 0.16199599999999997,
            "count": 1
           },
           {
            "bin_start": 0.16199599999999997,
            "bin_end": 0.176032,
            "count": 0
           },
           {
            "bin_start": 0.176032,
            "bin_end": 0.190068,
            "count": 0
           },
           {
            "bin_start": 0.190068,
            "bin_end": 0.204104,
            "count": 0
           },
           {
            "bin_start": 0.204104,
            "bin_end": 0.21814,
            "count": 1
           }
          ]
         }
        },
        {
         "name": "void_volume [cm^3/g]",
         "dtype": "float64",
         "stats": {
          "unique_count": 5,
          "nan_count": 0,
          "min": "0.0591",
          "max": "0.222",
          "histogram": [
           {
            "bin_start": 0.0591,
            "bin_end": 0.07539,
            "count": 2
           },
           {
            "bin_start": 0.07539,
            "bin_end": 0.09168,
            "count": 0
           },
           {
            "bin_start": 0.09168,
            "bin_end": 0.10797,
            "count": 1
           },
           {
            "bin_start": 0.10797,
            "bin_end": 0.12426,
            "count": 0
           },
           {
            "bin_start": 0.12426,
            "bin_end": 0.14055,
            "count": 1
           },
           {
            "bin_start": 0.14055,
            "bin_end": 0.15683999999999998,
            "count": 0
           },
           {
            "bin_start": 0.15683999999999998,
            "bin_end": 0.17313,
            "count": 0
           },
           {
            "bin_start": 0.17313,
            "bin_end": 0.18941999999999998,
            "count": 0
           },
           {
            "bin_start": 0.18941999999999998,
            "bin_end": 0.20571,
            "count": 0
           },
           {
            "bin_start": 0.20571,
            "bin_end": 0.222,
            "count": 1
           }
          ]
         }
        },
        {
         "name": "functional_groups",
         "dtype": "object",
         "stats": {
          "unique_count": 5,
          "nan_count": 0,
          "categories": [
           {
            "name": "COOH-OEt",
            "count": 1
           },
           {
            "name": "F-OMe",
            "count": 1
           },
           {
            "name": "3 others",
            "count": 3
           }
          ]
         }
        },
        {
         "name": "metal_linker",
         "dtype": "int64",
         "stats": {
          "unique_count": 4,
          "nan_count": 0,
          "min": "2",
          "max": "10",
          "histogram": [
           {
            "bin_start": 2,
            "bin_end": 2.8,
            "count": 2
           },
           {
            "bin_start": 2.8,
            "bin_end": 3.6,
            "count": 1
           },
           {
            "bin_start": 3.6,
            "bin_end": 4.4,
            "count": 0
           },
           {
            "bin_start": 4.4,
            "bin_end": 5.2,
            "count": 0
           },
           {
            "bin_start": 5.2,
            "bin_end": 6,
            "count": 0
           },
           {
            "bin_start": 6,
            "bin_end": 6.800000000000001,
            "count": 0
           },
           {
            "bin_start": 6.800000000000001,
            "bin_end": 7.6000000000000005,
            "count": 0
           },
           {
            "bin_start": 7.6000000000000005,
            "bin_end": 8.4,
            "count": 0
           },
           {
            "bin_start": 8.4,
            "bin_end": 9.2,
            "count": 1
           },
           {
            "bin_start": 9.2,
            "bin_end": 10,
            "count": 1
           }
          ]
         }
        },
        {
         "name": "organic_linker1",
         "dtype": "int64",
         "stats": {
          "unique_count": 5,
          "nan_count": 0,
          "min": "1",
          "max": "44",
          "histogram": [
           {
            "bin_start": 1,
            "bin_end": 5.3,
            "count": 2
           },
           {
            "bin_start": 5.3,
            "bin_end": 9.6,
            "count": 0
           },
           {
            "bin_start": 9.6,
            "bin_end": 13.899999999999999,
            "count": 0
           },
           {
            "bin_start": 13.899999999999999,
            "bin_end": 18.2,
            "count": 1
           },
           {
            "bin_start": 18.2,
            "bin_end": 22.5,
            "count": 1
           },
           {
            "bin_start": 22.5,
            "bin_end": 26.799999999999997,
            "count": 0
           },
           {
            "bin_start": 26.799999999999997,
            "bin_end": 31.099999999999998,
            "count": 0
           },
           {
            "bin_start": 31.099999999999998,
            "bin_end": 35.4,
            "count": 0
           },
           {
            "bin_start": 35.4,
            "bin_end": 39.699999999999996,
            "count": 0
           },
           {
            "bin_start": 39.699999999999996,
            "bin_end": 44,
            "count": 1
           }
          ]
         }
        },
        {
         "name": "organic_linker2",
         "dtype": "int64",
         "stats": {
          "unique_count": 4,
          "nan_count": 0,
          "min": "11",
          "max": "57",
          "histogram": [
           {
            "bin_start": 11,
            "bin_end": 15.6,
            "count": 1
           },
           {
            "bin_start": 15.6,
            "bin_end": 20.2,
            "count": 0
           },
           {
            "bin_start": 20.2,
            "bin_end": 24.799999999999997,
            "count": 3
           },
           {
            "bin_start": 24.799999999999997,
            "bin_end": 29.4,
            "count": 0
           },
           {
            "bin_start": 29.4,
            "bin_end": 34,
            "count": 0
           },
           {
            "bin_start": 34,
            "bin_end": 38.599999999999994,
            "count": 0
           },
           {
            "bin_start": 38.599999999999994,
            "bin_end": 43.199999999999996,
            "count": 0
           },
           {
            "bin_start": 43.199999999999996,
            "bin_end": 47.8,
            "count": 0
           },
           {
            "bin_start": 47.8,
            "bin_end": 52.4,
            "count": 0
           },
           {
            "bin_start": 52.4,
            "bin_end": 57,
            "count": 1
           }
          ]
         }
        },
        {
         "name": "topology",
         "dtype": "object",
         "stats": {
          "unique_count": 3,
          "nan_count": 0,
          "categories": [
           {
            "name": "pcu",
            "count": 3
           },
           {
            "name": "etb",
            "count": 1
           },
           {
            "name": "sra",
            "count": 1
           }
          ]
         }
        },
        {
         "name": "CO2/N2_selectivity",
         "dtype": "float64",
         "stats": {
          "unique_count": 5,
          "nan_count": 0,
          "min": "19.26372569",
          "max": "33.61678033",
          "histogram": [
           {
            "bin_start": 19.26372569,
            "bin_end": 20.699031154,
            "count": 1
           },
           {
            "bin_start": 20.699031154,
            "bin_end": 22.134336618,
            "count": 0
           },
           {
            "bin_start": 22.134336618,
            "bin_end": 23.569642082,
            "count": 1
           },
           {
            "bin_start": 23.569642082,
            "bin_end": 25.004947546,
            "count": 0
           },
           {
            "bin_start": 25.004947546,
            "bin_end": 26.44025301,
            "count": 1
           },
           {
            "bin_start": 26.44025301,
            "bin_end": 27.875558473999998,
            "count": 0
           },
           {
            "bin_start": 27.875558473999998,
            "bin_end": 29.310863937999997,
            "count": 0
           },
           {
            "bin_start": 29.310863937999997,
            "bin_end": 30.746169402,
            "count": 1
           },
           {
            "bin_start": 30.746169402,
            "bin_end": 32.181474865999995,
            "count": 0
           },
           {
            "bin_start": 32.181474865999995,
            "bin_end": 33.61678033,
            "count": 1
           }
          ]
         }
        },
        {
         "name": "heat_adsorption_CO2_P0.15bar_T298K [kcal/mol]",
         "dtype": "float64",
         "stats": {
          "unique_count": 5,
          "nan_count": 0,
          "min": "6.190085",
          "max": "7.147286",
          "histogram": [
           {
            "bin_start": 6.190085,
            "bin_end": 6.2858051,
            "count": 1
           },
           {
            "bin_start": 6.2858051,
            "bin_end": 6.3815252,
            "count": 1
           },
           {
            "bin_start": 6.3815252,
            "bin_end": 6.4772453,
            "count": 0
           },
           {
            "bin_start": 6.4772453,
            "bin_end": 6.5729654,
            "count": 1
           },
           {
            "bin_start": 6.5729654,
            "bin_end": 6.6686855000000005,
            "count": 0
           },
           {
            "bin_start": 6.6686855000000005,
            "bin_end": 6.7644056,
            "count": 0
           },
           {
            "bin_start": 6.7644056,
            "bin_end": 6.8601257,
            "count": 1
           },
           {
            "bin_start": 6.8601257,
            "bin_end": 6.9558458000000005,
            "count": 0
           },
           {
            "bin_start": 6.9558458000000005,
            "bin_end": 7.0515659,
            "count": 0
           },
           {
            "bin_start": 7.0515659,
            "bin_end": 7.147286,
            "count": 1
           }
          ]
         }
        },
        {
         "name": "CO2_working_capacity [mL/g]",
         "dtype": "float64",
         "stats": {
          "unique_count": 5,
          "nan_count": 0,
          "min": "79.21000065588355",
          "max": "187.62600449626183",
          "histogram": [
           {
            "bin_start": 79.21000065588355,
            "bin_end": 90.05160103992138,
            "count": 1
           },
           {
            "bin_start": 90.05160103992138,
            "bin_end": 100.8932014239592,
            "count": 0
           },
           {
            "bin_start": 100.8932014239592,
            "bin_end": 111.73480180799703,
            "count": 2
           },
           {
            "bin_start": 111.73480180799703,
            "bin_end": 122.57640219203486,
            "count": 1
           },
           {
            "bin_start": 122.57640219203486,
            "bin_end": 133.4180025760727,
            "count": 0
           },
           {
            "bin_start": 133.4180025760727,
            "bin_end": 144.2596029601105,
            "count": 0
           },
           {
            "bin_start": 144.2596029601105,
            "bin_end": 155.10120334414836,
            "count": 0
           },
           {
            "bin_start": 155.10120334414836,
            "bin_end": 165.94280372818616,
            "count": 0
           },
           {
            "bin_start": 165.94280372818616,
            "bin_end": 176.78440411222402,
            "count": 0
           },
           {
            "bin_start": 176.78440411222402,
            "bin_end": 187.62600449626183,
            "count": 1
           }
          ]
         }
        },
        {
         "name": "_deepnote_index_column",
         "dtype": "int64"
        }
       ],
       "rows_top": [
        {
         "MOFname": "mof_unit_1",
         "volume [A^3]": 1116.667429,
         "weight [u]": 875.2406,
         "surface_area [m^2/g]": 0,
         "void_fraction": 0.07899,
         "void_volume [cm^3/g]": 0.0607,
         "functional_groups": "COOH-OEt",
         "metal_linker": 3,
         "organic_linker1": 4,
         "organic_linker2": 11,
         "topology": "pcu",
         "CO2/N2_selectivity": 22.86416611,
         "heat_adsorption_CO2_P0.15bar_T298K [kcal/mol]": 6.786041,
         "CO2_working_capacity [mL/g]": 105.2845017241596,
         "_deepnote_index_column": 0
        },
        {
         "MOFname": "mof_unit_2",
         "volume [A^3]": 2769.503842,
         "weight [u]": 2211.697211,
         "surface_area [m^2/g]": 603.61,
         "void_fraction": 0.13794,
         "void_volume [cm^3/g]": 0.104,
         "functional_groups": "F-OMe",
         "metal_linker": 10,
         "organic_linker1": 44,
         "organic_linker2": 57,
         "topology": "etb",
         "CO2/N2_selectivity": 33.61678033,
         "heat_adsorption_CO2_P0.15bar_T298K [kcal/mol]": 7.147286,
         "CO2_working_capacity [mL/g]": 101.22477417834172,
         "_deepnote_index_column": 1
        },
        {
         "MOFname": "mof_unit_3",
         "volume [A^3]": 1089.818728,
         "weight [u]": 773.68796,
         "surface_area [m^2/g]": 788.5,
         "void_fraction": 0.14874,
         "void_volume [cm^3/g]": 0.1262,
         "functional_groups": "OMe-COOH",
         "metal_linker": 2,
         "organic_linker1": 22,
         "organic_linker2": 24,
         "topology": "pcu",
         "CO2/N2_selectivity": 19.26372569,
         "heat_adsorption_CO2_P0.15bar_T298K [kcal/mol]": 6.347967,
         "CO2_working_capacity [mL/g]": 118.98701074687752,
         "_deepnote_index_column": 2
        },
        {
         "MOFname": "mof_unit_4",
         "volume [A^3]": 2205.1983010000004,
         "weight [u]": 1304.63872,
         "surface_area [m^2/g]": 1441.53,
         "void_fraction": 0.21814,
         "void_volume [cm^3/g]": 0.222,
         "functional_groups": "H-SO3H",
         "metal_linker": 9,
         "organic_linker1": 17,
         "organic_linker2": 24,
         "topology": "sra",
         "CO2/N2_selectivity": 25.70137692,
         "heat_adsorption_CO2_P0.15bar_T298K [kcal/mol]": 6.190085,
         "CO2_working_capacity [mL/g]": 187.62600449626183,
         "_deepnote_index_column": 3
        },
        {
         "MOFname": "mof_unit_5",
         "volume [A^3]": 1137.800963,
         "weight [u]": 901.73612,
         "surface_area [m^2/g]": 0,
         "void_fraction": 0.07778,
         "void_volume [cm^3/g]": 0.0591,
         "functional_groups": "NHMe-OH",
         "metal_linker": 2,
         "organic_linker1": 1,
         "organic_linker2": 22,
         "topology": "pcu",
         "CO2/N2_selectivity": 30.00183795,
         "heat_adsorption_CO2_P0.15bar_T298K [kcal/mol]": 6.478063,
         "CO2_working_capacity [mL/g]": 79.21000065588355,
         "_deepnote_index_column": 4
        }
       ],
       "rows_bottom": null
      },
      "text/html": [
       "<div>\n",
       "<style scoped>\n",
       "    .dataframe tbody tr th:only-of-type {\n",
       "        vertical-align: middle;\n",
       "    }\n",
       "\n",
       "    .dataframe tbody tr th {\n",
       "        vertical-align: top;\n",
       "    }\n",
       "\n",
       "    .dataframe thead th {\n",
       "        text-align: right;\n",
       "    }\n",
       "</style>\n",
       "<table border=\"1\" class=\"dataframe\">\n",
       "  <thead>\n",
       "    <tr style=\"text-align: right;\">\n",
       "      <th></th>\n",
       "      <th>MOFname</th>\n",
       "      <th>volume [A^3]</th>\n",
       "      <th>weight [u]</th>\n",
       "      <th>surface_area [m^2/g]</th>\n",
       "      <th>void_fraction</th>\n",
       "      <th>void_volume [cm^3/g]</th>\n",
       "      <th>functional_groups</th>\n",
       "      <th>metal_linker</th>\n",
       "      <th>organic_linker1</th>\n",
       "      <th>organic_linker2</th>\n",
       "      <th>topology</th>\n",
       "      <th>CO2/N2_selectivity</th>\n",
       "      <th>heat_adsorption_CO2_P0.15bar_T298K [kcal/mol]</th>\n",
       "      <th>CO2_working_capacity [mL/g]</th>\n",
       "    </tr>\n",
       "  </thead>\n",
       "  <tbody>\n",
       "    <tr>\n",
       "      <th>0</th>\n",
       "      <td>mof_unit_1</td>\n",
       "      <td>1116.667429</td>\n",
       "      <td>875.240600</td>\n",
       "      <td>0.00</td>\n",
       "      <td>0.07899</td>\n",
       "      <td>0.0607</td>\n",
       "      <td>COOH-OEt</td>\n",
       "      <td>3</td>\n",
       "      <td>4</td>\n",
       "      <td>11</td>\n",
       "      <td>pcu</td>\n",
       "      <td>22.864166</td>\n",
       "      <td>6.786041</td>\n",
       "      <td>105.284502</td>\n",
       "    </tr>\n",
       "    <tr>\n",
       "      <th>1</th>\n",
       "      <td>mof_unit_2</td>\n",
       "      <td>2769.503842</td>\n",
       "      <td>2211.697211</td>\n",
       "      <td>603.61</td>\n",
       "      <td>0.13794</td>\n",
       "      <td>0.1040</td>\n",
       "      <td>F-OMe</td>\n",
       "      <td>10</td>\n",
       "      <td>44</td>\n",
       "      <td>57</td>\n",
       "      <td>etb</td>\n",
       "      <td>33.616780</td>\n",
       "      <td>7.147286</td>\n",
       "      <td>101.224774</td>\n",
       "    </tr>\n",
       "    <tr>\n",
       "      <th>2</th>\n",
       "      <td>mof_unit_3</td>\n",
       "      <td>1089.818728</td>\n",
       "      <td>773.687960</td>\n",
       "      <td>788.50</td>\n",
       "      <td>0.14874</td>\n",
       "      <td>0.1262</td>\n",
       "      <td>OMe-COOH</td>\n",
       "      <td>2</td>\n",
       "      <td>22</td>\n",
       "      <td>24</td>\n",
       "      <td>pcu</td>\n",
       "      <td>19.263726</td>\n",
       "      <td>6.347967</td>\n",
       "      <td>118.987011</td>\n",
       "    </tr>\n",
       "    <tr>\n",
       "      <th>3</th>\n",
       "      <td>mof_unit_4</td>\n",
       "      <td>2205.198301</td>\n",
       "      <td>1304.638720</td>\n",
       "      <td>1441.53</td>\n",
       "      <td>0.21814</td>\n",
       "      <td>0.2220</td>\n",
       "      <td>H-SO3H</td>\n",
       "      <td>9</td>\n",
       "      <td>17</td>\n",
       "      <td>24</td>\n",
       "      <td>sra</td>\n",
       "      <td>25.701377</td>\n",
       "      <td>6.190085</td>\n",
       "      <td>187.626004</td>\n",
       "    </tr>\n",
       "    <tr>\n",
       "      <th>4</th>\n",
       "      <td>mof_unit_5</td>\n",
       "      <td>1137.800963</td>\n",
       "      <td>901.736120</td>\n",
       "      <td>0.00</td>\n",
       "      <td>0.07778</td>\n",
       "      <td>0.0591</td>\n",
       "      <td>NHMe-OH</td>\n",
       "      <td>2</td>\n",
       "      <td>1</td>\n",
       "      <td>22</td>\n",
       "      <td>pcu</td>\n",
       "      <td>30.001838</td>\n",
       "      <td>6.478063</td>\n",
       "      <td>79.210001</td>\n",
       "    </tr>\n",
       "  </tbody>\n",
       "</table>\n",
       "</div>"
      ],
      "text/plain": [
       "      MOFname  volume [A^3]   weight [u]  surface_area [m^2/g]  void_fraction  \\\n",
       "0  mof_unit_1   1116.667429   875.240600                  0.00        0.07899   \n",
       "1  mof_unit_2   2769.503842  2211.697211                603.61        0.13794   \n",
       "2  mof_unit_3   1089.818728   773.687960                788.50        0.14874   \n",
       "3  mof_unit_4   2205.198301  1304.638720               1441.53        0.21814   \n",
       "4  mof_unit_5   1137.800963   901.736120                  0.00        0.07778   \n",
       "\n",
       "   void_volume [cm^3/g] functional_groups  metal_linker  organic_linker1  \\\n",
       "0                0.0607          COOH-OEt             3                4   \n",
       "1                0.1040             F-OMe            10               44   \n",
       "2                0.1262          OMe-COOH             2               22   \n",
       "3                0.2220            H-SO3H             9               17   \n",
       "4                0.0591           NHMe-OH             2                1   \n",
       "\n",
       "   organic_linker2 topology  CO2/N2_selectivity  \\\n",
       "0               11      pcu           22.864166   \n",
       "1               57      etb           33.616780   \n",
       "2               24      pcu           19.263726   \n",
       "3               24      sra           25.701377   \n",
       "4               22      pcu           30.001838   \n",
       "\n",
       "   heat_adsorption_CO2_P0.15bar_T298K [kcal/mol]  CO2_working_capacity [mL/g]  \n",
       "0                                       6.786041                   105.284502  \n",
       "1                                       7.147286                   101.224774  \n",
       "2                                       6.347967                   118.987011  \n",
       "3                                       6.190085                   187.626004  \n",
       "4                                       6.478063                    79.210001  "
      ]
     },
     "metadata": {},
     "execution_count": 4
    }
   ],
   "metadata": {
    "tags": [],
    "cell_id": "00005-37372a85-2560-4b2a-b60a-9e650c1f21aa",
    "deepnote_to_be_reexecuted": false,
    "source_hash": "c085b6ba",
    "execution_start": 1632653963336,
    "execution_millis": 65,
    "deepnote_cell_type": "code"
   }
  },
  {
   "cell_type": "markdown",
   "source": [
    "<details>\n",
    "<summary> <font color='green'>Click here for a hint</font></summary>\n",
    "<ul>\n",
    "    <li>Use something like <code>pd.options.display.max_columns=100</code> to adjust how many columns are shown. <code>pd.options.display.max_columns=100</code>  would show at maximum 100 columns. </li>\n",
    "</ul>\n",
    "</details>"
   ],
   "metadata": {
    "tags": [],
    "cell_id": "00008-af584af5-8bf2-4b57-8fac-0852450bd206",
    "deepnote_cell_type": "markdown"
   }
  },
  {
   "cell_type": "markdown",
   "source": [
    "Let's also get some basic information ..."
   ],
   "metadata": {
    "tags": [],
    "cell_id": "00011-c419579e-fdd1-42cb-9aca-52ee21368d3c",
    "deepnote_cell_type": "markdown"
   }
  },
  {
   "cell_type": "markdown",
   "source": [
    "ลองสังเกตุ feature แต่ละตัว\n",
    "- volume ติดลบได้ไหม ?\n",
    "- void volume มีค่ามากกว่า volume ได้ไหม ?\n",
    "- void fraction มากกว่า 1 ได้ไหม ?\n",
    "- heat adsorption ติดลบได้ไหม ?"
   ],
   "metadata": {
    "tags": [],
    "cell_id": "00012-4920c11b-dee5-49ae-bd13-9689e6233f6b",
    "deepnote_cell_type": "markdown"
   }
  },
  {
   "cell_type": "code",
   "execution_count": null,
   "source": [
    "df.info()"
   ],
   "outputs": [
    {
     "output_type": "stream",
     "name": "stdout",
     "text": [
      "<class 'pandas.core.frame.DataFrame'>\n",
      "RangeIndex: 68613 entries, 0 to 68612\n",
      "Data columns (total 14 columns):\n",
      " #   Column                                         Non-Null Count  Dtype  \n",
      "---  ------                                         --------------  -----  \n",
      " 0   MOFname                                        68613 non-null  object \n",
      " 1   volume [A^3]                                   68613 non-null  float64\n",
      " 2   weight [u]                                     68613 non-null  float64\n",
      " 3   surface_area [m^2/g]                           68613 non-null  float64\n",
      " 4   void_fraction                                  68613 non-null  float64\n",
      " 5   void_volume [cm^3/g]                           68613 non-null  float64\n",
      " 6   functional_groups                              68290 non-null  object \n",
      " 7   metal_linker                                   68613 non-null  int64  \n",
      " 8   organic_linker1                                68613 non-null  int64  \n",
      " 9   organic_linker2                                68613 non-null  int64  \n",
      " 10  topology                                       68613 non-null  object \n",
      " 11  CO2/N2_selectivity                             68613 non-null  float64\n",
      " 12  heat_adsorption_CO2_P0.15bar_T298K [kcal/mol]  66526 non-null  float64\n",
      " 13  CO2_working_capacity [mL/g]                    68613 non-null  float64\n",
      "dtypes: float64(8), int64(3), object(3)\n",
      "memory usage: 7.3+ MB\n"
     ]
    }
   ],
   "metadata": {
    "tags": [],
    "cell_id": "00012-79205f43-4e57-4251-ad90-d96ee1a6e63e",
    "deepnote_to_be_reexecuted": false,
    "source_hash": "de1e323c",
    "execution_start": 1632653963407,
    "execution_millis": 30,
    "deepnote_cell_type": "code"
   }
  },
  {
   "cell_type": "markdown",
   "source": [
    "Play with some features. E.g. `topology`"
   ],
   "metadata": {
    "tags": [],
    "cell_id": "00011-d23664ca-1cc3-4b88-9879-f7ba47560a5b",
    "deepnote_cell_type": "markdown"
   }
  },
  {
   "cell_type": "code",
   "execution_count": null,
   "source": [
    "df.topology.value_counts().plot(figsize=(15,5), kind=\"bar\")"
   ],
   "outputs": [
    {
     "output_type": "execute_result",
     "data": {
      "text/plain": [
       "<AxesSubplot:>"
      ]
     },
     "metadata": {},
     "execution_count": 6
    },
    {
     "output_type": "display_data",
     "data": {
      "image/png": "[encoded data removed]",
      "text/plain": [
       "<Figure size 1080x360 with 1 Axes>"
      ]
     },
     "metadata": {
      "needs_background": "light",
      "image/png": {
       "width": 889,
       "height": 311
      }
     }
    }
   ],
   "metadata": {
    "tags": [],
    "cell_id": "00011-4e199da6-0a23-4e96-b955-6c8b8b1afef9",
    "deepnote_to_be_reexecuted": false,
    "source_hash": "88f37e7",
    "execution_start": 1632653963481,
    "execution_millis": 1024,
    "deepnote_cell_type": "code"
   }
  },
  {
   "cell_type": "markdown",
   "source": [
    "## 2. Density (ความหนาแน่น)"
   ],
   "metadata": {
    "tags": [],
    "cell_id": "00008-558f12cb-2336-44cc-a411-c6c9ff592bbb",
    "deepnote_cell_type": "markdown"
   }
  },
  {
   "cell_type": "markdown",
   "source": [
    "ความหนาแน่น คือ อัตราส่วนมวลต่อปริมาตร (1 Unit Cell)"
   ],
   "metadata": {
    "tags": [],
    "cell_id": "00016-82d4bfc6-6d16-48cd-844c-fd4e4c70935e",
    "deepnote_cell_type": "markdown"
   }
  },
  {
   "cell_type": "code",
   "execution_count": null,
   "source": [
    "df[\"weight [u]\"] / df[\"volume [A^3]\"]  # u / A^3\n"
   ],
   "outputs": [
    {
     "output_type": "execute_result",
     "data": {
      "text/plain": [
       "0        0.783797\n",
       "1        0.798590\n",
       "2        0.709924\n",
       "3        0.591620\n",
       "4        0.792525\n",
       "           ...   \n",
       "68608    0.842967\n",
       "68609    0.991130\n",
       "68610    0.962656\n",
       "68611    0.912996\n",
       "68612    1.301827\n",
       "Length: 68613, dtype: float64"
      ]
     },
     "metadata": {},
     "execution_count": 7
    }
   ],
   "metadata": {
    "tags": [],
    "cell_id": "00008-1e38244a-c9a1-4c52-87c9-80ff92db59c7",
    "deepnote_to_be_reexecuted": false,
    "source_hash": "824a225b",
    "execution_start": 1632653964503,
    "execution_millis": 31,
    "deepnote_cell_type": "code"
   }
  },
  {
   "cell_type": "markdown",
   "source": [
    "เรารู้ว่า 1 Dalton (u) = 1.66054e-24 กรัม\n",
    "\n",
    "ลองเปลี่ยนหน่วยความหนาแน่นให้เป็น g/cm^3"
   ],
   "metadata": {
    "tags": [],
    "cell_id": "00018-78105401-deb9-4190-a907-de4f160b3652",
    "deepnote_cell_type": "markdown"
   }
  },
  {
   "cell_type": "code",
   "execution_count": null,
   "source": [
    "(df[\"weight [u]\"] / df[\"volume [A^3]\"]) * 1.66054\n"
   ],
   "outputs": [
    {
     "output_type": "execute_result",
     "data": {
      "text/plain": [
       "0        1.301526\n",
       "1        1.326090\n",
       "2        1.178856\n",
       "3        0.982408\n",
       "4        1.316020\n",
       "           ...   \n",
       "68608    1.399781\n",
       "68609    1.645811\n",
       "68610    1.598529\n",
       "68611    1.516066\n",
       "68612    2.161736\n",
       "Length: 68613, dtype: float64"
      ]
     },
     "metadata": {},
     "execution_count": 8
    }
   ],
   "metadata": {
    "tags": [],
    "cell_id": "00018-6692dd94-a4ef-4795-b5d0-8bcb3ad9497e",
    "deepnote_to_be_reexecuted": false,
    "source_hash": "525da0bf",
    "execution_start": 1632653964513,
    "execution_millis": 21,
    "deepnote_cell_type": "code"
   }
  },
  {
   "cell_type": "code",
   "execution_count": null,
   "source": [
    "df.insert(\n",
    "    loc=3,\n",
    "    column=\"density [g/cm^3]\",\n",
    "    value=(df[\"weight [u]\"] / df[\"volume [A^3]\"]) * 1.66054,\n",
    ")\n"
   ],
   "outputs": [],
   "metadata": {
    "tags": [],
    "cell_id": "00020-6234b6fa-0e4f-4544-bb13-2774f8f8f8c9",
    "deepnote_to_be_reexecuted": false,
    "source_hash": "25948eb7",
    "execution_start": 1632653964523,
    "execution_millis": 2,
    "deepnote_cell_type": "code"
   }
  },
  {
   "cell_type": "code",
   "execution_count": null,
   "source": [
    "df"
   ],
   "outputs": [
    {
     "output_type": "execute_result",
     "data": {
      "application/vnd.deepnote.dataframe.v2+json": {
       "row_count": 68613,
       "column_count": 15,
       "columns": [
        {
         "name": "MOFname",
         "dtype": "object",
         "stats": {
          "unique_count": 68613,
          "nan_count": 0,
          "categories": [
           {
            "name": "mof_unit_1",
            "count": 1
           },
           {
            "name": "mof_unit_2",
            "count": 1
           },
           {
            "name": "68611 others",
            "count": 68611
           }
          ]
         }
        },
        {
         "name": "volume [A^3]",
         "dtype": "float64"
        },
        {
         "name": "weight [u]",
         "dtype": "float64"
        },
        {
         "name": "density [g/cm^3]",
         "dtype": "float64"
        },
        {
         "name": "surface_area [m^2/g]",
         "dtype": "float64"
        },
        {
         "name": "void_fraction",
         "dtype": "float64"
        },
        {
         "name": "void_volume [cm^3/g]",
         "dtype": "float64"
        },
        {
         "name": "functional_groups",
         "dtype": "object"
        },
        {
         "name": "metal_linker",
         "dtype": "int64"
        },
        {
         "name": "organic_linker1",
         "dtype": "int64"
        },
        {
         "name": "organic_linker2",
         "dtype": "int64"
        },
        {
         "name": "topology",
         "dtype": "object"
        },
        {
         "name": "CO2/N2_selectivity",
         "dtype": "float64"
        },
        {
         "name": "heat_adsorption_CO2_P0.15bar_T298K [kcal/mol]",
         "dtype": "float64"
        },
        {
         "name": "CO2_working_capacity [mL/g]",
         "dtype": "float64"
        },
        {
         "name": "_deepnote_index_column",
         "dtype": "int64"
        }
       ],
       "rows_top": [
        {
         "MOFname": "mof_unit_1",
         "volume [A^3]": 1116.667429,
         "weight [u]": 875.2406,
         "density [g/cm^3]": 1.3015262988601057,
         "surface_area [m^2/g]": 0,
         "void_fraction": 0.07899,
         "void_volume [cm^3/g]": 0.0607,
         "functional_groups": "COOH-OEt",
         "metal_linker": 3,
         "organic_linker1": 4,
         "organic_linker2": 11,
         "topology": "pcu",
         "CO2/N2_selectivity": 22.86416611,
         "heat_adsorption_CO2_P0.15bar_T298K [kcal/mol]": 6.786041,
         "CO2_working_capacity [mL/g]": 105.2845017241596,
         "_deepnote_index_column": 0
        },
        {
         "MOFname": "mof_unit_2",
         "volume [A^3]": 2769.503842,
         "weight [u]": 2211.697211,
         "density [g/cm^3]": 1.3260901216521728,
         "surface_area [m^2/g]": 603.61,
         "void_fraction": 0.13794,
         "void_volume [cm^3/g]": 0.104,
         "functional_groups": "F-OMe",
         "metal_linker": 10,
         "organic_linker1": 44,
         "organic_linker2": 57,
         "topology": "etb",
         "CO2/N2_selectivity": 33.61678033,
         "heat_adsorption_CO2_P0.15bar_T298K [kcal/mol]": 7.147286,
         "CO2_working_capacity [mL/g]": 101.22477417834172,
         "_deepnote_index_column": 1
        },
        {
         "MOFname": "mof_unit_3",
         "volume [A^3]": 1089.818728,
         "weight [u]": 773.68796,
         "density [g/cm^3]": 1.1788564208802987,
         "surface_area [m^2/g]": 788.5,
         "void_fraction": 0.14874,
         "void_volume [cm^3/g]": 0.1262,
         "functional_groups": "OMe-COOH",
         "metal_linker": 2,
         "organic_linker1": 22,
         "organic_linker2": 24,
         "topology": "pcu",
         "CO2/N2_selectivity": 19.26372569,
         "heat_adsorption_CO2_P0.15bar_T298K [kcal/mol]": 6.347967,
         "CO2_working_capacity [mL/g]": 118.98701074687752,
         "_deepnote_index_column": 2
        },
        {
         "MOFname": "mof_unit_4",
         "volume [A^3]": 2205.1983010000004,
         "weight [u]": 1304.63872,
         "density [g/cm^3]": 0.9824081485671339,
         "surface_area [m^2/g]": 1441.53,
         "void_fraction": 0.21814,
         "void_volume [cm^3/g]": 0.222,
         "functional_groups": "H-SO3H",
         "metal_linker": 9,
         "organic_linker1": 17,
         "organic_linker2": 24,
         "topology": "sra",
         "CO2/N2_selectivity": 25.70137692,
         "heat_adsorption_CO2_P0.15bar_T298K [kcal/mol]": 6.190085,
         "CO2_working_capacity [mL/g]": 187.62600449626183,
         "_deepnote_index_column": 3
        },
        {
         "MOFname": "mof_unit_5",
         "volume [A^3]": 1137.800963,
         "weight [u]": 901.73612,
         "density [g/cm^3]": 1.3160200644906643,
         "surface_area [m^2/g]": 0,
         "void_fraction": 0.07778,
         "void_volume [cm^3/g]": 0.0591,
         "functional_groups": "NHMe-OH",
         "metal_linker": 2,
         "organic_linker1": 1,
         "organic_linker2": 22,
         "topology": "pcu",
         "CO2/N2_selectivity": 30.00183795,
         "heat_adsorption_CO2_P0.15bar_T298K [kcal/mol]": 6.478063,
         "CO2_working_capacity [mL/g]": 79.21000065588355,
         "_deepnote_index_column": 4
        },
        {
         "MOFname": "mof_unit_6",
         "volume [A^3]": 3954.659761,
         "weight [u]": 1543.02768,
         "density [g/cm^3]": 0.6479088818248402,
         "surface_area [m^2/g]": 2430.55,
         "void_fraction": 0.37094,
         "void_volume [cm^3/g]": 0.5725,
         "functional_groups": "Pr-NO2",
         "metal_linker": 9,
         "organic_linker1": 7,
         "organic_linker2": 23,
         "topology": "sra",
         "CO2/N2_selectivity": 17.14654102,
         "heat_adsorption_CO2_P0.15bar_T298K [kcal/mol]": 5.398304,
         "CO2_working_capacity [mL/g]": 55.7869591021412,
         "_deepnote_index_column": 5
        },
        {
         "MOFname": "mof_unit_7",
         "volume [A^3]": 3565.914939,
         "weight [u]": 1954.749656,
         "density [g/cm^3]": 0.9102684862933125,
         "surface_area [m^2/g]": 1530.02,
         "void_fraction": 0.33337,
         "void_volume [cm^3/g]": 0.3662,
         "functional_groups": "NH2",
         "metal_linker": 10,
         "organic_linker1": 53,
         "organic_linker2": 55,
         "topology": "etb",
         "CO2/N2_selectivity": 18.36379134,
         "heat_adsorption_CO2_P0.15bar_T298K [kcal/mol]": 6.303857,
         "CO2_working_capacity [mL/g]": 111.69046224719489,
         "_deepnote_index_column": 6
        },
        {
         "MOFname": "mof_unit_8",
         "volume [A^3]": 916.043907,
         "weight [u]": 639.1115599999999,
         "density [g/cm^3]": 1.1585365087116941,
         "surface_area [m^2/g]": 1685.58,
         "void_fraction": 0.28458,
         "void_volume [cm^3/g]": 0.2456,
         "functional_groups": "Br",
         "metal_linker": 2,
         "organic_linker1": 5,
         "organic_linker2": 13,
         "topology": "pcu",
         "CO2/N2_selectivity": 12.68480443,
         "heat_adsorption_CO2_P0.15bar_T298K [kcal/mol]": 5.234732,
         "CO2_working_capacity [mL/g]": 58.98977428711081,
         "_deepnote_index_column": 7
        },
        {
         "MOFname": "mof_unit_9",
         "volume [A^3]": 2228.882339,
         "weight [u]": 1422.69182,
         "density [g/cm^3]": 1.059919868108749,
         "surface_area [m^2/g]": 1458.02,
         "void_fraction": 0.2427699999999999,
         "void_volume [cm^3/g]": 0.2291,
         "functional_groups": "HCO",
         "metal_linker": 4,
         "organic_linker1": 14,
         "organic_linker2": 19,
         "topology": "acs",
         "CO2/N2_selectivity": 37.04042435,
         "heat_adsorption_CO2_P0.15bar_T298K [kcal/mol]": 6.298964,
         "CO2_working_capacity [mL/g]": 135.58710841724886,
         "_deepnote_index_column": 8
        },
        {
         "MOFname": "mof_unit_10",
         "volume [A^3]": 4275.421420000001,
         "weight [u]": 1606.196,
         "density [g/cm^3]": 0.6238338736301693,
         "surface_area [m^2/g]": 3276.11,
         "void_fraction": 0.4100399999999999,
         "void_volume [cm^3/g]": 0.6573,
         "functional_groups": "NHMe-OH",
         "metal_linker": 3,
         "organic_linker1": 13,
         "organic_linker2": 29,
         "topology": "pcu",
         "CO2/N2_selectivity": 10.9992991,
         "heat_adsorption_CO2_P0.15bar_T298K [kcal/mol]": 5.539327,
         "CO2_working_capacity [mL/g]": 59.73905673864041,
         "_deepnote_index_column": 9
        },
        {
         "MOFname": "mof_unit_11",
         "volume [A^3]": 1607.935338,
         "weight [u]": 1110.38712,
         "density [g/cm^3]": 1.1467141648483379,
         "surface_area [m^2/g]": 1098.36,
         "void_fraction": 0.18787,
         "void_volume [cm^3/g]": 0.1638,
         "functional_groups": "SO3H",
         "metal_linker": 9,
         "organic_linker1": 1,
         "organic_linker2": 24,
         "topology": "sra",
         "CO2/N2_selectivity": 24.25902464,
         "heat_adsorption_CO2_P0.15bar_T298K [kcal/mol]": 5.926444,
         "CO2_working_capacity [mL/g]": 161.06749898914796,
         "_deepnote_index_column": 10
        },
        {
         "MOFname": "mof_unit_12",
         "volume [A^3]": 1175.47586,
         "weight [u]": 1397.05128,
         "density [g/cm^3]": 1.9735492760278375,
         "surface_area [m^2/g]": 0,
         "void_fraction": 0.05704,
         "void_volume [cm^3/g]": 0.0289,
         "functional_groups": "Me-Br",
         "metal_linker": 2,
         "organic_linker1": 22,
         "organic_linker2": 24,
         "topology": "pcu",
         "CO2/N2_selectivity": 58.10697445,
         "heat_adsorption_CO2_P0.15bar_T298K [kcal/mol]": 7.407897999999999,
         "CO2_working_capacity [mL/g]": 101.96481234318138,
         "_deepnote_index_column": 11
        },
        {
         "MOFname": "mof_unit_13",
         "volume [A^3]": 1650.879383,
         "weight [u]": 796.68968,
         "density [g/cm^3]": 0.8013517491648268,
         "surface_area [m^2/g]": 2117.01,
         "void_fraction": 0.30405,
         "void_volume [cm^3/g]": 0.3794,
         "functional_groups": "NHMe-NO2",
         "metal_linker": 2,
         "organic_linker1": 4,
         "organic_linker2": 6,
         "topology": "pcu",
         "CO2/N2_selectivity": 12.99674112,
         "heat_adsorption_CO2_P0.15bar_T298K [kcal/mol]": 4.936655,
         "CO2_working_capacity [mL/g]": 79.91916950624072,
         "_deepnote_index_column": 12
        },
        {
         "MOFname": "mof_unit_14",
         "volume [A^3]": 1071.619874,
         "weight [u]": 701.6286,
         "density [g/cm^3]": 1.087216076998587,
         "surface_area [m^2/g]": 0,
         "void_fraction": 0.10455,
         "void_volume [cm^3/g]": 0.0962,
         "functional_groups": "OEt-CN",
         "metal_linker": 2,
         "organic_linker1": 12,
         "organic_linker2": 22,
         "topology": "pcu",
         "CO2/N2_selectivity": 31.66445559,
         "heat_adsorption_CO2_P0.15bar_T298K [kcal/mol]": 7.427183,
         "CO2_working_capacity [mL/g]": 133.3711208364308,
         "_deepnote_index_column": 13
        },
        {
         "MOFname": "mof_unit_15",
         "volume [A^3]": 1769.973982,
         "weight [u]": 945.403413,
         "density [g/cm^3]": 0.8869509944146851,
         "surface_area [m^2/g]": 1870.11,
         "void_fraction": 0.27705,
         "void_volume [cm^3/g]": 0.3124,
         "functional_groups": "F-OMe",
         "metal_linker": 3,
         "organic_linker1": 4,
         "organic_linker2": 26,
         "topology": "pcu",
         "CO2/N2_selectivity": 17.01166312,
         "heat_adsorption_CO2_P0.15bar_T298K [kcal/mol]": 5.139598,
         "CO2_working_capacity [mL/g]": 62.32762208837283,
         "_deepnote_index_column": 14
        },
        {
         "MOFname": "mof_unit_16",
         "volume [A^3]": 4282.561071,
         "weight [u]": 2478.166816,
         "density [g/cm^3]": 0.9608958416277164,
         "surface_area [m^2/g]": 1294.48,
         "void_fraction": 0.28607,
         "void_volume [cm^3/g]": 0.2977,
         "functional_groups": "OMe-NH2",
         "metal_linker": 10,
         "organic_linker1": 52,
         "organic_linker2": 54,
         "topology": "etb",
         "CO2/N2_selectivity": 19.28955582,
         "heat_adsorption_CO2_P0.15bar_T298K [kcal/mol]": 5.867149,
         "CO2_working_capacity [mL/g]": 54.93615457357025,
         "_deepnote_index_column": 15
        },
        {
         "MOFname": "mof_unit_17",
         "volume [A^3]": 7840.492345000001,
         "weight [u]": 4627.98816,
         "density [g/cm^3]": 0.9801628674642113,
         "surface_area [m^2/g]": 1664.62,
         "void_fraction": 0.26885,
         "void_volume [cm^3/g]": 0.2743,
         "functional_groups": "Cl-Pr",
         "metal_linker": 2,
         "organic_linker1": 38,
         "organic_linker2": 41,
         "topology": "fof",
         "CO2/N2_selectivity": 15.894512699999998,
         "heat_adsorption_CO2_P0.15bar_T298K [kcal/mol]": 5.390903,
         "CO2_working_capacity [mL/g]": 98.10944956383054,
         "_deepnote_index_column": 16
        },
        {
         "MOFname": "mof_unit_18",
         "volume [A^3]": 2252.940492,
         "weight [u]": 1583.399493,
         "density [g/cm^3]": 1.167051772313842,
         "surface_area [m^2/g]": 851.04,
         "void_fraction": 0.15162,
         "void_volume [cm^3/g]": 0.1299,
         "functional_groups": "Me-F",
         "metal_linker": 2,
         "organic_linker1": 14,
         "organic_linker2": 14,
         "topology": "pcu",
         "CO2/N2_selectivity": 35.34220222,
         "heat_adsorption_CO2_P0.15bar_T298K [kcal/mol]": 7.488088999999999,
         "CO2_working_capacity [mL/g]": 324.0160452431515,
         "_deepnote_index_column": 17
        },
        {
         "MOFname": "mof_unit_19",
         "volume [A^3]": 2334.528642,
         "weight [u]": 937.8558,
         "density [g/cm^3]": 0.6670927236077149,
         "surface_area [m^2/g]": 2773.01,
         "void_fraction": 0.41436,
         "void_volume [cm^3/g]": 0.6211,
         "functional_groups": "SO3H-Pr",
         "metal_linker": 2,
         "organic_linker1": 8,
         "organic_linker2": 10,
         "topology": "pcu",
         "CO2/N2_selectivity": 11.94115719,
         "heat_adsorption_CO2_P0.15bar_T298K [kcal/mol]": 5.547677999999999,
         "CO2_working_capacity [mL/g]": 60.05088633787799,
         "_deepnote_index_column": 18
        },
        {
         "MOFname": "mof_unit_20",
         "volume [A^3]": 919.305781,
         "weight [u]": 689.1744,
         "density [g/cm^3]": 1.2448541952288668,
         "surface_area [m^2/g]": 0,
         "void_fraction": 0.07816,
         "void_volume [cm^3/g]": 0.0628,
         "functional_groups": "CN",
         "metal_linker": 3,
         "organic_linker1": 10,
         "organic_linker2": 18,
         "topology": "pcu",
         "CO2/N2_selectivity": 47.33272089,
         "heat_adsorption_CO2_P0.15bar_T298K [kcal/mol]": 7.957782000000001,
         "CO2_working_capacity [mL/g]": 136.3873995221212,
         "_deepnote_index_column": 19
        },
        {
         "MOFname": "mof_unit_21",
         "volume [A^3]": 1585.308617,
         "weight [u]": 866.6691800000001,
         "density [g/cm^3]": 0.907797273492774,
         "surface_area [m^2/g]": 1825.67,
         "void_fraction": 0.31685,
         "void_volume [cm^3/g]": 0.349,
         "functional_groups": "H-Cl",
         "metal_linker": 3,
         "organic_linker1": 14,
         "organic_linker2": 17,
         "topology": "pcu",
         "CO2/N2_selectivity": 14.56002553,
         "heat_adsorption_CO2_P0.15bar_T298K [kcal/mol]": 5.713488,
         "CO2_working_capacity [mL/g]": 104.97861488065128,
         "_deepnote_index_column": 20
        },
        {
         "MOFname": "mof_unit_22",
         "volume [A^3]": 3409.7421659999995,
         "weight [u]": 1812.74148,
         "density [g/cm^3]": 0.8828027430386067,
         "surface_area [m^2/g]": 1922.93,
         "void_fraction": 0.2672,
         "void_volume [cm^3/g]": 0.3027,
         "functional_groups": "COOH-OH",
         "metal_linker": 9,
         "organic_linker1": 7,
         "organic_linker2": 16,
         "topology": "sra",
         "CO2/N2_selectivity": 40.54284142,
         "heat_adsorption_CO2_P0.15bar_T298K [kcal/mol]": 6.425527,
         "CO2_working_capacity [mL/g]": 230.69959325150907,
         "_deepnote_index_column": 21
        },
        {
         "MOFname": "mof_unit_23",
         "volume [A^3]": 4366.170427,
         "weight [u]": 1937.4993600000005,
         "density [g/cm^3]": 0.7368688971367083,
         "surface_area [m^2/g]": 2148.78,
         "void_fraction": 0.2641699999999999,
         "void_volume [cm^3/g]": 0.3585,
         "functional_groups": "Et-OH",
         "metal_linker": 9,
         "organic_linker1": 18,
         "organic_linker2": 27,
         "topology": "sra",
         "CO2/N2_selectivity": 56.34296165,
         "heat_adsorption_CO2_P0.15bar_T298K [kcal/mol]": 6.857435000000001,
         "CO2_working_capacity [mL/g]": 252.38041691729305,
         "_deepnote_index_column": 22
        },
        {
         "MOFname": "mof_unit_24",
         "volume [A^3]": 1906.333143,
         "weight [u]": 1033.97772,
         "density [g/cm^3]": 0.9006617597104851,
         "surface_area [m^2/g]": 1523.05,
         "void_fraction": 0.2350699999999999,
         "void_volume [cm^3/g]": 0.261,
         "functional_groups": "OH-Pr",
         "metal_linker": 2,
         "organic_linker1": 16,
         "organic_linker2": 18,
         "topology": "pcu",
         "CO2/N2_selectivity": 22.9136176,
         "heat_adsorption_CO2_P0.15bar_T298K [kcal/mol]": 6.870048,
         "CO2_working_capacity [mL/g]": 262.6415751431312,
         "_deepnote_index_column": 23
        },
        {
         "MOFname": "mof_unit_25",
         "volume [A^3]": 1803.619737,
         "weight [u]": 973.70752,
         "density [g/cm^3]": 0.8964640672818276,
         "surface_area [m^2/g]": 1957.26,
         "void_fraction": 0.27738,
         "void_volume [cm^3/g]": 0.3094,
         "functional_groups": "SO3H-COOH",
         "metal_linker": 2,
         "organic_linker1": 2,
         "organic_linker2": 10,
         "topology": "pcu",
         "CO2/N2_selectivity": 23.01799947,
         "heat_adsorption_CO2_P0.15bar_T298K [kcal/mol]": 6.021285,
         "CO2_working_capacity [mL/g]": 136.52804474104676,
         "_deepnote_index_column": 24
        },
        {
         "MOFname": "mof_unit_26",
         "volume [A^3]": 2777.131295,
         "weight [u]": 1480.42508,
         "density [g/cm^3]": 0.8851958374345423,
         "surface_area [m^2/g]": 1135.53,
         "void_fraction": 0.1655599999999999,
         "void_volume [cm^3/g]": 0.187,
         "functional_groups": "OEt-H",
         "metal_linker": 2,
         "organic_linker1": 12,
         "organic_linker2": 29,
         "topology": "pcu",
         "CO2/N2_selectivity": 26.1894427,
         "heat_adsorption_CO2_P0.15bar_T298K [kcal/mol]": 7.153111,
         "CO2_working_capacity [mL/g]": 346.0309838421578,
         "_deepnote_index_column": 25
        },
        {
         "MOFname": "mof_unit_27",
         "volume [A^3]": 1629.942174,
         "weight [u]": 1093.94384,
         "density [g/cm^3]": 1.1144797239129538,
         "surface_area [m^2/g]": 1139.7,
         "void_fraction": 0.20692,
         "void_volume [cm^3/g]": 0.1857,
         "functional_groups": "SO3H-OEt",
         "metal_linker": 2,
         "organic_linker1": 13,
         "organic_linker2": 14,
         "topology": "pcu",
         "CO2/N2_selectivity": 22.47671204,
         "heat_adsorption_CO2_P0.15bar_T298K [kcal/mol]": 6.1497,
         "CO2_working_capacity [mL/g]": 100.479453563965,
         "_deepnote_index_column": 26
        },
        {
         "MOFname": "mof_unit_28",
         "volume [A^3]": 1208.371986,
         "weight [u]": 655.4740400000001,
         "density [g/cm^3]": 0.9007498311712764,
         "surface_area [m^2/g]": 2286.28,
         "void_fraction": 0.26882,
         "void_volume [cm^3/g]": 0.2984,
         "functional_groups": "OMe",
         "metal_linker": 2,
         "organic_linker1": 5,
         "organic_linker2": 8,
         "topology": "pcu",
         "CO2/N2_selectivity": 14.97878372,
         "heat_adsorption_CO2_P0.15bar_T298K [kcal/mol]": 5.160807,
         "CO2_working_capacity [mL/g]": 75.63295693651922,
         "_deepnote_index_column": 27
        },
        {
         "MOFname": "mof_unit_29",
         "volume [A^3]": 8686.956791,
         "weight [u]": 4552.65248,
         "density [g/cm^3]": 0.8702543055090924,
         "surface_area [m^2/g]": 1765.83,
         "void_fraction": 0.28834,
         "void_volume [cm^3/g]": 0.3313,
         "functional_groups": "Pr-NO2",
         "metal_linker": 1,
         "organic_linker1": 5,
         "organic_linker2": 17,
         "topology": "pcu",
         "CO2/N2_selectivity": 14.96061853,
         "heat_adsorption_CO2_P0.15bar_T298K [kcal/mol]": 5.359237,
         "CO2_working_capacity [mL/g]": 69.87261079284771,
         "_deepnote_index_column": 28
        },
        {
         "MOFname": "mof_unit_30",
         "volume [A^3]": 1824.319922,
         "weight [u]": 1059.29236,
         "density [g/cm^3]": 0.9641934587580522,
         "surface_area [m^2/g]": 2112.92,
         "void_fraction": 0.31239,
         "void_volume [cm^3/g]": 0.324,
         "functional_groups": "Et-Br",
         "metal_linker": 2,
         "organic_linker1": 4,
         "organic_linker2": 7,
         "topology": "pcu",
         "CO2/N2_selectivity": 11.22829945,
         "heat_adsorption_CO2_P0.15bar_T298K [kcal/mol]": 5.341076999999999,
         "CO2_working_capacity [mL/g]": 66.1344523626015,
         "_deepnote_index_column": 29
        },
        {
         "MOFname": "mof_unit_31",
         "volume [A^3]": 2270.674945,
         "weight [u]": 1520.58351,
         "density [g/cm^3]": 1.1119996489393595,
         "surface_area [m^2/g]": 1474,
         "void_fraction": 0.24855,
         "void_volume [cm^3/g]": 0.2235,
         "functional_groups": "OH-F",
         "metal_linker": 4,
         "organic_linker1": 4,
         "organic_linker2": 19,
         "topology": "acs",
         "CO2/N2_selectivity": 25.46720601,
         "heat_adsorption_CO2_P0.15bar_T298K [kcal/mol]": 6.200198,
         "CO2_working_capacity [mL/g]": 84.0399753748314,
         "_deepnote_index_column": 30
        },
        {
         "MOFname": "mof_unit_32",
         "volume [A^3]": 2648.735681,
         "weight [u]": 1800.495496,
         "density [g/cm^3]": 1.1287629839301583,
         "surface_area [m^2/g]": 1068.24,
         "void_fraction": 0.22341,
         "void_volume [cm^3/g]": 0.1979,
         "functional_groups": "NO2-NH2",
         "metal_linker": 10,
         "organic_linker1": 44,
         "organic_linker2": 56,
         "topology": "etb",
         "CO2/N2_selectivity": 28.8402435,
         "heat_adsorption_CO2_P0.15bar_T298K [kcal/mol]": 5.997696,
         "CO2_working_capacity [mL/g]": 77.21637118526824,
         "_deepnote_index_column": 31
        },
        {
         "MOFname": "mof_unit_33",
         "volume [A^3]": 1811.246493,
         "weight [u]": 957.79592,
         "density [g/cm^3]": 0.8781015964108204,
         "surface_area [m^2/g]": 2277.35,
         "void_fraction": 0.27907,
         "void_volume [cm^3/g]": 0.3178,
         "functional_groups": "SO3H",
         "metal_linker": 2,
         "organic_linker1": 2,
         "organic_linker2": 10,
         "topology": "pcu",
         "CO2/N2_selectivity": 30.67616776,
         "heat_adsorption_CO2_P0.15bar_T298K [kcal/mol]": 5.951407,
         "CO2_working_capacity [mL/g]": 264.7743641437398,
         "_deepnote_index_column": 32
        }
       ],
       "rows_bottom": [
        {
         "MOFname": "mof_unit_68581",
         "volume [A^3]": 1571.992234,
         "weight [u]": 1392.4674,
         "density [g/cm^3]": 1.4709028240631878,
         "surface_area [m^2/g]": 0,
         "void_fraction": 0,
         "void_volume [cm^3/g]": 0,
         "functional_groups": "COOH-CN",
         "metal_linker": 9,
         "organic_linker1": 24,
         "organic_linker2": 24,
         "topology": "sra",
         "CO2/N2_selectivity": 304.54753930000004,
         "heat_adsorption_CO2_P0.15bar_T298K [kcal/mol]": "nan",
         "CO2_working_capacity [mL/g]": -2.6749003843545887,
         "_deepnote_index_column": 68580
        },
        {
         "MOFname": "mof_unit_68582",
         "volume [A^3]": 1108.951518,
         "weight [u]": 941.5172,
         "density [g/cm^3]": 1.409824456625163,
         "surface_area [m^2/g]": 0,
         "void_fraction": 0.0179,
         "void_volume [cm^3/g]": 0.0127,
         "functional_groups": "SO3H-OPr",
         "metal_linker": 3,
         "organic_linker1": 14,
         "organic_linker2": 24,
         "topology": "pcu",
         "CO2/N2_selectivity": 0,
         "heat_adsorption_CO2_P0.15bar_T298K [kcal/mol]": "nan",
         "CO2_working_capacity [mL/g]": -2.740600850472407,
         "_deepnote_index_column": 68581
        },
        {
         "MOFname": "mof_unit_68583",
         "volume [A^3]": 1116.795338,
         "weight [u]": 883.4779,
         "density [g/cm^3]": 1.3136251040349525,
         "surface_area [m^2/g]": 0,
         "void_fraction": 0,
         "void_volume [cm^3/g]": 0,
         "functional_groups": "OEt-OMe",
         "metal_linker": 3,
         "organic_linker1": 4,
         "organic_linker2": 24,
         "topology": "pcu",
         "CO2/N2_selectivity": 0,
         "heat_adsorption_CO2_P0.15bar_T298K [kcal/mol]": "nan",
         "CO2_working_capacity [mL/g]": -2.8724970123521474,
         "_deepnote_index_column": 68582
        },
        {
         "MOFname": "mof_unit_68584",
         "volume [A^3]": 2212.049076,
         "weight [u]": 2310.726916,
         "density [g/cm^3]": 1.7346154363053745,
         "surface_area [m^2/g]": 0,
         "void_fraction": 0,
         "void_volume [cm^3/g]": 0,
         "functional_groups": "COOH-NHMe",
         "metal_linker": 10,
         "organic_linker1": 45,
         "organic_linker2": 50,
         "topology": "etb",
         "CO2/N2_selectivity": 33.08578745,
         "heat_adsorption_CO2_P0.15bar_T298K [kcal/mol]": "nan",
         "CO2_working_capacity [mL/g]": -2.8898300498957936,
         "_deepnote_index_column": 68583
        },
        {
         "MOFname": "mof_unit_68585",
         "volume [A^3]": 1211.599818,
         "weight [u]": 1048.08888,
         "density [g/cm^3]": 1.4364425307260984,
         "surface_area [m^2/g]": 0,
         "void_fraction": 0,
         "void_volume [cm^3/g]": 0,
         "functional_groups": "OPr",
         "metal_linker": 2,
         "organic_linker1": 9,
         "organic_linker2": 12,
         "topology": "pcu",
         "CO2/N2_selectivity": 0,
         "heat_adsorption_CO2_P0.15bar_T298K [kcal/mol]": "nan",
         "CO2_working_capacity [mL/g]": -2.940178397046383,
         "_deepnote_index_column": 68584
        },
        {
         "MOFname": "mof_unit_68586",
         "volume [A^3]": 1771.7286170000002,
         "weight [u]": 1731.940296,
         "density [g/cm^3]": 1.623248680144697,
         "surface_area [m^2/g]": 0,
         "void_fraction": 0,
         "void_volume [cm^3/g]": 0,
         "functional_groups": "OMe-Cl",
         "metal_linker": 10,
         "organic_linker1": 48,
         "organic_linker2": 48,
         "topology": "etb",
         "CO2/N2_selectivity": 0,
         "heat_adsorption_CO2_P0.15bar_T298K [kcal/mol]": "nan",
         "CO2_working_capacity [mL/g]": -3.2523381493800363,
         "_deepnote_index_column": 68585
        },
        {
         "MOFname": "mof_unit_68587",
         "volume [A^3]": 851.701568,
         "weight [u]": 731.33212,
         "density [g/cm^3]": 1.4258588737796007,
         "surface_area [m^2/g]": 0,
         "void_fraction": 0,
         "void_volume [cm^3/g]": 0,
         "functional_groups": "OPr-Ph",
         "metal_linker": 3,
         "organic_linker1": 10,
         "organic_linker2": 16,
         "topology": "pcu",
         "CO2/N2_selectivity": 0.02033596,
         "heat_adsorption_CO2_P0.15bar_T298K [kcal/mol]": "nan",
         "CO2_working_capacity [mL/g]": -3.347422241048035,
         "_deepnote_index_column": 68586
        },
        {
         "MOFname": "mof_unit_68588",
         "volume [A^3]": 1970.167148,
         "weight [u]": 1713.31308,
         "density [g/cm^3]": 1.4440525539933526,
         "surface_area [m^2/g]": 0,
         "void_fraction": 0,
         "void_volume [cm^3/g]": 0,
         "functional_groups": "OPr-OMe",
         "metal_linker": 9,
         "organic_linker1": 16,
         "organic_linker2": 22,
         "topology": "sra",
         "CO2/N2_selectivity": 0,
         "heat_adsorption_CO2_P0.15bar_T298K [kcal/mol]": "nan",
         "CO2_working_capacity [mL/g]": -3.3878659953165413,
         "_deepnote_index_column": 68587
        },
        {
         "MOFname": "mof_unit_68589",
         "volume [A^3]": 1895.556284,
         "weight [u]": 1970.615256,
         "density [g/cm^3]": 1.7262929541153313,
         "surface_area [m^2/g]": 0,
         "void_fraction": 0,
         "void_volume [cm^3/g]": 0,
         "functional_groups": "NO2-Et",
         "metal_linker": 10,
         "organic_linker1": 42,
         "organic_linker2": 49,
         "topology": "etb",
         "CO2/N2_selectivity": 0,
         "heat_adsorption_CO2_P0.15bar_T298K [kcal/mol]": "nan",
         "CO2_working_capacity [mL/g]": -3.409986252753193,
         "_deepnote_index_column": 68588
        },
        {
         "MOFname": "mof_unit_68590",
         "volume [A^3]": 2981.283155,
         "weight [u]": 2629.06624,
         "density [g/cm^3]": 1.4643592799455507,
         "surface_area [m^2/g]": 0,
         "void_fraction": 0.00486,
         "void_volume [cm^3/g]": 0,
         "functional_groups": "Cl-CN",
         "metal_linker": 9,
         "organic_linker1": 18,
         "organic_linker2": 29,
         "topology": "sra",
         "CO2/N2_selectivity": 4.613800749,
         "heat_adsorption_CO2_P0.15bar_T298K [kcal/mol]": "nan",
         "CO2_working_capacity [mL/g]": -3.478823173283671,
         "_deepnote_index_column": 68589
        },
        {
         "MOFname": "mof_unit_68591",
         "volume [A^3]": 2046.621875,
         "weight [u]": 2107.834824,
         "density [g/cm^3]": 1.7102055252121058,
         "surface_area [m^2/g]": 0,
         "void_fraction": 0,
         "void_volume [cm^3/g]": 0,
         "functional_groups": "Me-F",
         "metal_linker": 10,
         "organic_linker1": 47,
         "organic_linker2": 50,
         "topology": "etb",
         "CO2/N2_selectivity": 7.488249221,
         "heat_adsorption_CO2_P0.15bar_T298K [kcal/mol]": "nan",
         "CO2_working_capacity [mL/g]": -3.551126701322879,
         "_deepnote_index_column": 68590
        },
        {
         "MOFname": "mof_unit_68592",
         "volume [A^3]": 1502.968949,
         "weight [u]": 1527.332636,
         "density [g/cm^3]": 1.687457972482331,
         "surface_area [m^2/g]": 0,
         "void_fraction": 0,
         "void_volume [cm^3/g]": 0,
         "functional_groups": "H-OMe",
         "metal_linker": 10,
         "organic_linker1": 46,
         "organic_linker2": 48,
         "topology": "etb",
         "CO2/N2_selectivity": 0,
         "heat_adsorption_CO2_P0.15bar_T298K [kcal/mol]": "nan",
         "CO2_working_capacity [mL/g]": -3.5747326476918437,
         "_deepnote_index_column": 68591
        },
        {
         "MOFname": "mof_unit_68593",
         "volume [A^3]": 1154.248742,
         "weight [u]": 990.01964,
         "density [g/cm^3]": 1.4242746413195568,
         "surface_area [m^2/g]": 0,
         "void_fraction": 0,
         "void_volume [cm^3/g]": 0,
         "functional_groups": "NHMe",
         "metal_linker": 2,
         "organic_linker1": 9,
         "organic_linker2": 12,
         "topology": "pcu",
         "CO2/N2_selectivity": 0,
         "heat_adsorption_CO2_P0.15bar_T298K [kcal/mol]": "nan",
         "CO2_working_capacity [mL/g]": -3.777446648678478,
         "_deepnote_index_column": 68592
        },
        {
         "MOFname": "mof_unit_68594",
         "volume [A^3]": 1524.505449,
         "weight [u]": 1685.041936,
         "density [g/cm^3]": 1.8354014662530997,
         "surface_area [m^2/g]": 0,
         "void_fraction": 0.00699,
         "void_volume [cm^3/g]": 0,
         "functional_groups": "NO2-Br",
         "metal_linker": 10,
         "organic_linker1": 46,
         "organic_linker2": 48,
         "topology": "etb",
         "CO2/N2_selectivity": 9.460790768,
         "heat_adsorption_CO2_P0.15bar_T298K [kcal/mol]": "nan",
         "CO2_working_capacity [mL/g]": -3.792633691097672,
         "_deepnote_index_column": 68593
        },
        {
         "MOFname": "mof_unit_68595",
         "volume [A^3]": 1652.258112,
         "weight [u]": 1766.5988,
         "density [g/cm^3]": 1.7754538168380318,
         "surface_area [m^2/g]": 0,
         "void_fraction": 0,
         "void_volume [cm^3/g]": 0,
         "functional_groups": "OH-NO2",
         "metal_linker": 9,
         "organic_linker1": 2,
         "organic_linker2": 22,
         "topology": "sra",
         "CO2/N2_selectivity": 0,
         "heat_adsorption_CO2_P0.15bar_T298K [kcal/mol]": "nan",
         "CO2_working_capacity [mL/g]": -3.942523196713197,
         "_deepnote_index_column": 68594
        },
        {
         "MOFname": "mof_unit_68596",
         "volume [A^3]": 3760.489888,
         "weight [u]": 3343.200672,
         "density [g/cm^3]": 1.476275328275229,
         "surface_area [m^2/g]": 0,
         "void_fraction": 0.0122099999999999,
         "void_volume [cm^3/g]": 0,
         "functional_groups": "NHMe-H",
         "metal_linker": 10,
         "organic_linker1": 42,
         "organic_linker2": 42,
         "topology": "etb",
         "CO2/N2_selectivity": 0.227160494,
         "heat_adsorption_CO2_P0.15bar_T298K [kcal/mol]": "nan",
         "CO2_working_capacity [mL/g]": -4.115523419053583,
         "_deepnote_index_column": 68595
        },
        {
         "MOFname": "mof_unit_68597",
         "volume [A^3]": 3320.078141,
         "weight [u]": 3090.5876,
         "density [g/cm^3]": 1.5457601042360525,
         "surface_area [m^2/g]": 0,
         "void_fraction": 0,
         "void_volume [cm^3/g]": 0,
         "functional_groups": "Me-OMe",
         "metal_linker": 9,
         "organic_linker1": 18,
         "organic_linker2": 29,
         "topology": "sra",
         "CO2/N2_selectivity": 0,
         "heat_adsorption_CO2_P0.15bar_T298K [kcal/mol]": "nan",
         "CO2_working_capacity [mL/g]": -4.142265819835208,
         "_deepnote_index_column": 68596
        },
        {
         "MOFname": "mof_unit_68598",
         "volume [A^3]": 1621.161289,
         "weight [u]": 1292.77096,
         "density [g/cm^3]": 1.3241729274467027,
         "surface_area [m^2/g]": 0,
         "void_fraction": 0,
         "void_volume [cm^3/g]": 0,
         "functional_groups": "Me-OEt",
         "metal_linker": 9,
         "organic_linker1": 12,
         "organic_linker2": 12,
         "topology": "sra",
         "CO2/N2_selectivity": 4082.551111,
         "heat_adsorption_CO2_P0.15bar_T298K [kcal/mol]": "nan",
         "CO2_working_capacity [mL/g]": -4.267228766697491,
         "_deepnote_index_column": 68597
        },
        {
         "MOFname": "mof_unit_68599",
         "volume [A^3]": 1716.981598,
         "weight [u]": 2211.8456,
         "density [g/cm^3]": 2.139136550387187,
         "surface_area [m^2/g]": 0,
         "void_fraction": 0,
         "void_volume [cm^3/g]": 0,
         "functional_groups": "Br-COOH",
         "metal_linker": 9,
         "organic_linker1": 22,
         "organic_linker2": 22,
         "topology": "sra",
         "CO2/N2_selectivity": 0,
         "heat_adsorption_CO2_P0.15bar_T298K [kcal/mol]": "nan",
         "CO2_working_capacity [mL/g]": -4.289844253778246,
         "_deepnote_index_column": 68598
        },
        {
         "MOFname": "mof_unit_68600",
         "volume [A^3]": 1174.62717,
         "weight [u]": 1649.17081,
         "density [g/cm^3]": 2.3313900502041003,
         "surface_area [m^2/g]": 0,
         "void_fraction": 0,
         "void_volume [cm^3/g]": 0,
         "functional_groups": "COOH-I",
         "metal_linker": 2,
         "organic_linker1": 14,
         "organic_linker2": 22,
         "topology": "pcu",
         "CO2/N2_selectivity": 2276.833333,
         "heat_adsorption_CO2_P0.15bar_T298K [kcal/mol]": "nan",
         "CO2_working_capacity [mL/g]": -4.46383493540684,
         "_deepnote_index_column": 68599
        },
        {
         "MOFname": "mof_unit_68601",
         "volume [A^3]": 1132.348176,
         "weight [u]": 903.87744,
         "density [g/cm^3]": 1.325497471563552,
         "surface_area [m^2/g]": 0,
         "void_fraction": 0,
         "void_volume [cm^3/g]": 0,
         "functional_groups": "OEt",
         "metal_linker": 2,
         "organic_linker1": 9,
         "organic_linker2": 12,
         "topology": "pcu",
         "CO2/N2_selectivity": 546.3466667,
         "heat_adsorption_CO2_P0.15bar_T298K [kcal/mol]": "nan",
         "CO2_working_capacity [mL/g]": -5.648259167555951,
         "_deepnote_index_column": 68600
        },
        {
         "MOFname": "mof_unit_68602",
         "volume [A^3]": 1131.069889,
         "weight [u]": 895.9516800000001,
         "density [g/cm^3]": 1.3153595698870204,
         "surface_area [m^2/g]": 0,
         "void_fraction": 0,
         "void_volume [cm^3/g]": 0,
         "functional_groups": "NHMe-OEt",
         "metal_linker": 2,
         "organic_linker1": 4,
         "organic_linker2": 22,
         "topology": "pcu",
         "CO2/N2_selectivity": 454.265353,
         "heat_adsorption_CO2_P0.15bar_T298K [kcal/mol]": "nan",
         "CO2_working_capacity [mL/g]": -5.789564692673669,
         "_deepnote_index_column": 68601
        },
        {
         "MOFname": "mof_unit_68603",
         "volume [A^3]": 1046.560841,
         "weight [u]": 967.52096,
         "density [g/cm^3]": 1.535130297234578,
         "surface_area [m^2/g]": 0,
         "void_fraction": 0,
         "void_volume [cm^3/g]": 0,
         "functional_groups": "CN-Ph",
         "metal_linker": 3,
         "organic_linker1": 10,
         "organic_linker2": 17,
         "topology": "pcu",
         "CO2/N2_selectivity": 0,
         "heat_adsorption_CO2_P0.15bar_T298K [kcal/mol]": "nan",
         "CO2_working_capacity [mL/g]": -6.190205474753933,
         "_deepnote_index_column": 68602
        },
        {
         "MOFname": "mof_unit_68604",
         "volume [A^3]": 699.494867,
         "weight [u]": 653.1773599999999,
         "density [g/cm^3]": 1.5505862652375972,
         "surface_area [m^2/g]": 0,
         "void_fraction": 0,
         "void_volume [cm^3/g]": 0,
         "functional_groups": "SO3H-Me",
         "metal_linker": 3,
         "organic_linker1": 10,
         "organic_linker2": 24,
         "topology": "pcu",
         "CO2/N2_selectivity": 15.60473156,
         "heat_adsorption_CO2_P0.15bar_T298K [kcal/mol]": "nan",
         "CO2_working_capacity [mL/g]": -6.788277808283721,
         "_deepnote_index_column": 68603
        },
        {
         "MOFname": "mof_unit_68605",
         "volume [A^3]": 1508.12951,
         "weight [u]": 1517.382416,
         "density [g/cm^3]": 1.6707279980647283,
         "surface_area [m^2/g]": 0,
         "void_fraction": 0,
         "void_volume [cm^3/g]": 0,
         "functional_groups": "Et",
         "metal_linker": 10,
         "organic_linker1": 46,
         "organic_linker2": 49,
         "topology": "etb",
         "CO2/N2_selectivity": 9.974765376,
         "heat_adsorption_CO2_P0.15bar_T298K [kcal/mol]": "nan",
         "CO2_working_capacity [mL/g]": -6.859590877034719,
         "_deepnote_index_column": 68604
        },
        {
         "MOFname": "mof_unit_68606",
         "volume [A^3]": 2112.326167,
         "weight [u]": 1977.49208,
         "density [g/cm^3]": 1.5545443453871675,
         "surface_area [m^2/g]": 0,
         "void_fraction": 0,
         "void_volume [cm^3/g]": 0,
         "functional_groups": "OPr",
         "metal_linker": 4,
         "organic_linker1": 14,
         "organic_linker2": 14,
         "topology": "acs",
         "CO2/N2_selectivity": 3.233981158,
         "heat_adsorption_CO2_P0.15bar_T298K [kcal/mol]": "nan",
         "CO2_working_capacity [mL/g]": -7.204435785879248,
         "_deepnote_index_column": 68605
        },
        {
         "MOFname": "mof_unit_68607",
         "volume [A^3]": 949.067112,
         "weight [u]": 753.78752,
         "density [g/cm^3]": 1.3188680891312983,
         "surface_area [m^2/g]": 0,
         "void_fraction": 0,
         "void_volume [cm^3/g]": 0,
         "functional_groups": "Pr",
         "metal_linker": 2,
         "organic_linker1": 10,
         "organic_linker2": 18,
         "topology": "pcu",
         "CO2/N2_selectivity": 0,
         "heat_adsorption_CO2_P0.15bar_T298K [kcal/mol]": "nan",
         "CO2_working_capacity [mL/g]": -9.124771269167136,
         "_deepnote_index_column": 68606
        },
        {
         "MOFname": "mof_unit_68608",
         "volume [A^3]": 1202.182553,
         "weight [u]": 1042.53824,
         "density [g/cm^3]": 1.4400279264821438,
         "surface_area [m^2/g]": 0,
         "void_fraction": 0,
         "void_volume [cm^3/g]": 0,
         "functional_groups": "Ph-Cl",
         "metal_linker": 3,
         "organic_linker1": 12,
         "organic_linker2": 24,
         "topology": "pcu",
         "CO2/N2_selectivity": 0,
         "heat_adsorption_CO2_P0.15bar_T298K [kcal/mol]": "nan",
         "CO2_working_capacity [mL/g]": -10.954314651035927,
         "_deepnote_index_column": 68607
        },
        {
         "MOFname": "mof_unit_68609",
         "volume [A^3]": 1188.302573,
         "weight [u]": 1001.700216,
         "density [g/cm^3]": 1.3997809265676309,
         "surface_area [m^2/g]": 0,
         "void_fraction": 0,
         "void_volume [cm^3/g]": 0,
         "functional_groups": "Pr-F",
         "metal_linker": 3,
         "organic_linker1": 4,
         "organic_linker2": 24,
         "topology": "pcu",
         "CO2/N2_selectivity": 24.13177036,
         "heat_adsorption_CO2_P0.15bar_T298K [kcal/mol]": "nan",
         "CO2_working_capacity [mL/g]": -12.94365213140233,
         "_deepnote_index_column": 68608
        },
        {
         "MOFname": "mof_unit_68610",
         "volume [A^3]": 1506.6603630000002,
         "weight [u]": 1493.2964960000002,
         "density [g/cm^3]": 1.6458112421106017,
         "surface_area [m^2/g]": 0,
         "void_fraction": 0.01108,
         "void_volume [cm^3/g]": 0,
         "functional_groups": "SO3H",
         "metal_linker": 10,
         "organic_linker1": 42,
         "organic_linker2": 46,
         "topology": "etb",
         "CO2/N2_selectivity": 6.071817778,
         "heat_adsorption_CO2_P0.15bar_T298K [kcal/mol]": "nan",
         "CO2_working_capacity [mL/g]": -12.985581574603149,
         "_deepnote_index_column": 68609
        },
        {
         "MOFname": "mof_unit_68611",
         "volume [A^3]": 2035.532738,
         "weight [u]": 1959.51832,
         "density [g/cm^3]": 1.598529215643988,
         "surface_area [m^2/g]": 0,
         "void_fraction": 0,
         "void_volume [cm^3/g]": 0,
         "functional_groups": "OPr",
         "metal_linker": 4,
         "organic_linker1": 14,
         "organic_linker2": 22,
         "topology": "acs",
         "CO2/N2_selectivity": 9.876133998,
         "heat_adsorption_CO2_P0.15bar_T298K [kcal/mol]": "nan",
         "CO2_working_capacity [mL/g]": -13.187635269397644,
         "_deepnote_index_column": 68610
        },
        {
         "MOFname": "mof_unit_68612",
         "volume [A^3]": 3985.426053,
         "weight [u]": 3638.67728,
         "density [g/cm^3]": 1.5160660592317354,
         "surface_area [m^2/g]": 0,
         "void_fraction": 0,
         "void_volume [cm^3/g]": 0,
         "functional_groups": "OPr-Me",
         "metal_linker": 4,
         "organic_linker1": 4,
         "organic_linker2": 15,
         "topology": "acs",
         "CO2/N2_selectivity": 5.285050632,
         "heat_adsorption_CO2_P0.15bar_T298K [kcal/mol]": "inf",
         "CO2_working_capacity [mL/g]": 15.672697623512306,
         "_deepnote_index_column": 68611
        },
        {
         "MOFname": "mof_unit_68613",
         "volume [A^3]": 1591.009408,
         "weight [u]": 2071.219,
         "density [g/cm^3]": 2.1617358017910604,
         "surface_area [m^2/g]": 0,
         "void_fraction": 0.01609,
         "void_volume [cm^3/g]": 0,
         "functional_groups": "I-OEt",
         "metal_linker": 2,
         "organic_linker1": 9,
         "organic_linker2": 16,
         "topology": "pcu",
         "CO2/N2_selectivity": 2.621271792,
         "heat_adsorption_CO2_P0.15bar_T298K [kcal/mol]": "inf",
         "CO2_working_capacity [mL/g]": 3.1447082400614,
         "_deepnote_index_column": 68612
        }
       ]
      },
      "text/html": [
       "<div>\n",
       "<style scoped>\n",
       "    .dataframe tbody tr th:only-of-type {\n",
       "        vertical-align: middle;\n",
       "    }\n",
       "\n",
       "    .dataframe tbody tr th {\n",
       "        vertical-align: top;\n",
       "    }\n",
       "\n",
       "    .dataframe thead th {\n",
       "        text-align: right;\n",
       "    }\n",
       "</style>\n",
       "<table border=\"1\" class=\"dataframe\">\n",
       "  <thead>\n",
       "    <tr style=\"text-align: right;\">\n",
       "      <th></th>\n",
       "      <th>MOFname</th>\n",
       "      <th>volume [A^3]</th>\n",
       "      <th>weight [u]</th>\n",
       "      <th>density [g/cm^3]</th>\n",
       "      <th>surface_area [m^2/g]</th>\n",
       "      <th>void_fraction</th>\n",
       "      <th>void_volume [cm^3/g]</th>\n",
       "      <th>functional_groups</th>\n",
       "      <th>metal_linker</th>\n",
       "      <th>organic_linker1</th>\n",
       "      <th>organic_linker2</th>\n",
       "      <th>topology</th>\n",
       "      <th>CO2/N2_selectivity</th>\n",
       "      <th>heat_adsorption_CO2_P0.15bar_T298K [kcal/mol]</th>\n",
       "      <th>CO2_working_capacity [mL/g]</th>\n",
       "    </tr>\n",
       "  </thead>\n",
       "  <tbody>\n",
       "    <tr>\n",
       "      <th>0</th>\n",
       "      <td>mof_unit_1</td>\n",
       "      <td>1116.667429</td>\n",
       "      <td>875.240600</td>\n",
       "      <td>1.301526</td>\n",
       "      <td>0.00</td>\n",
       "      <td>0.07899</td>\n",
       "      <td>0.0607</td>\n",
       "      <td>COOH-OEt</td>\n",
       "      <td>3</td>\n",
       "      <td>4</td>\n",
       "      <td>11</td>\n",
       "      <td>pcu</td>\n",
       "      <td>22.864166</td>\n",
       "      <td>6.786041</td>\n",
       "      <td>105.284502</td>\n",
       "    </tr>\n",
       "    <tr>\n",
       "      <th>1</th>\n",
       "      <td>mof_unit_2</td>\n",
       "      <td>2769.503842</td>\n",
       "      <td>2211.697211</td>\n",
       "      <td>1.326090</td>\n",
       "      <td>603.61</td>\n",
       "      <td>0.13794</td>\n",
       "      <td>0.1040</td>\n",
       "      <td>F-OMe</td>\n",
       "      <td>10</td>\n",
       "      <td>44</td>\n",
       "      <td>57</td>\n",
       "      <td>etb</td>\n",
       "      <td>33.616780</td>\n",
       "      <td>7.147286</td>\n",
       "      <td>101.224774</td>\n",
       "    </tr>\n",
       "    <tr>\n",
       "      <th>2</th>\n",
       "      <td>mof_unit_3</td>\n",
       "      <td>1089.818728</td>\n",
       "      <td>773.687960</td>\n",
       "      <td>1.178856</td>\n",
       "      <td>788.50</td>\n",
       "      <td>0.14874</td>\n",
       "      <td>0.1262</td>\n",
       "      <td>OMe-COOH</td>\n",
       "      <td>2</td>\n",
       "      <td>22</td>\n",
       "      <td>24</td>\n",
       "      <td>pcu</td>\n",
       "      <td>19.263726</td>\n",
       "      <td>6.347967</td>\n",
       "      <td>118.987011</td>\n",
       "    </tr>\n",
       "    <tr>\n",
       "      <th>3</th>\n",
       "      <td>mof_unit_4</td>\n",
       "      <td>2205.198301</td>\n",
       "      <td>1304.638720</td>\n",
       "      <td>0.982408</td>\n",
       "      <td>1441.53</td>\n",
       "      <td>0.21814</td>\n",
       "      <td>0.2220</td>\n",
       "      <td>H-SO3H</td>\n",
       "      <td>9</td>\n",
       "      <td>17</td>\n",
       "      <td>24</td>\n",
       "      <td>sra</td>\n",
       "      <td>25.701377</td>\n",
       "      <td>6.190085</td>\n",
       "      <td>187.626004</td>\n",
       "    </tr>\n",
       "    <tr>\n",
       "      <th>4</th>\n",
       "      <td>mof_unit_5</td>\n",
       "      <td>1137.800963</td>\n",
       "      <td>901.736120</td>\n",
       "      <td>1.316020</td>\n",
       "      <td>0.00</td>\n",
       "      <td>0.07778</td>\n",
       "      <td>0.0591</td>\n",
       "      <td>NHMe-OH</td>\n",
       "      <td>2</td>\n",
       "      <td>1</td>\n",
       "      <td>22</td>\n",
       "      <td>pcu</td>\n",
       "      <td>30.001838</td>\n",
       "      <td>6.478063</td>\n",
       "      <td>79.210001</td>\n",
       "    </tr>\n",
       "    <tr>\n",
       "      <th>...</th>\n",
       "      <td>...</td>\n",
       "      <td>...</td>\n",
       "      <td>...</td>\n",
       "      <td>...</td>\n",
       "      <td>...</td>\n",
       "      <td>...</td>\n",
       "      <td>...</td>\n",
       "      <td>...</td>\n",
       "      <td>...</td>\n",
       "      <td>...</td>\n",
       "      <td>...</td>\n",
       "      <td>...</td>\n",
       "      <td>...</td>\n",
       "      <td>...</td>\n",
       "      <td>...</td>\n",
       "    </tr>\n",
       "    <tr>\n",
       "      <th>68608</th>\n",
       "      <td>mof_unit_68609</td>\n",
       "      <td>1188.302573</td>\n",
       "      <td>1001.700216</td>\n",
       "      <td>1.399781</td>\n",
       "      <td>0.00</td>\n",
       "      <td>0.00000</td>\n",
       "      <td>0.0000</td>\n",
       "      <td>Pr-F</td>\n",
       "      <td>3</td>\n",
       "      <td>4</td>\n",
       "      <td>24</td>\n",
       "      <td>pcu</td>\n",
       "      <td>24.131770</td>\n",
       "      <td>NaN</td>\n",
       "      <td>-12.943652</td>\n",
       "    </tr>\n",
       "    <tr>\n",
       "      <th>68609</th>\n",
       "      <td>mof_unit_68610</td>\n",
       "      <td>1506.660363</td>\n",
       "      <td>1493.296496</td>\n",
       "      <td>1.645811</td>\n",
       "      <td>0.00</td>\n",
       "      <td>0.01108</td>\n",
       "      <td>0.0000</td>\n",
       "      <td>SO3H</td>\n",
       "      <td>10</td>\n",
       "      <td>42</td>\n",
       "      <td>46</td>\n",
       "      <td>etb</td>\n",
       "      <td>6.071818</td>\n",
       "      <td>NaN</td>\n",
       "      <td>-12.985582</td>\n",
       "    </tr>\n",
       "    <tr>\n",
       "      <th>68610</th>\n",
       "      <td>mof_unit_68611</td>\n",
       "      <td>2035.532738</td>\n",
       "      <td>1959.518320</td>\n",
       "      <td>1.598529</td>\n",
       "      <td>0.00</td>\n",
       "      <td>0.00000</td>\n",
       "      <td>0.0000</td>\n",
       "      <td>OPr</td>\n",
       "      <td>4</td>\n",
       "      <td>14</td>\n",
       "      <td>22</td>\n",
       "      <td>acs</td>\n",
       "      <td>9.876134</td>\n",
       "      <td>NaN</td>\n",
       "      <td>-13.187635</td>\n",
       "    </tr>\n",
       "    <tr>\n",
       "      <th>68611</th>\n",
       "      <td>mof_unit_68612</td>\n",
       "      <td>3985.426053</td>\n",
       "      <td>3638.677280</td>\n",
       "      <td>1.516066</td>\n",
       "      <td>0.00</td>\n",
       "      <td>0.00000</td>\n",
       "      <td>0.0000</td>\n",
       "      <td>OPr-Me</td>\n",
       "      <td>4</td>\n",
       "      <td>4</td>\n",
       "      <td>15</td>\n",
       "      <td>acs</td>\n",
       "      <td>5.285051</td>\n",
       "      <td>inf</td>\n",
       "      <td>15.672698</td>\n",
       "    </tr>\n",
       "    <tr>\n",
       "      <th>68612</th>\n",
       "      <td>mof_unit_68613</td>\n",
       "      <td>1591.009408</td>\n",
       "      <td>2071.219000</td>\n",
       "      <td>2.161736</td>\n",
       "      <td>0.00</td>\n",
       "      <td>0.01609</td>\n",
       "      <td>0.0000</td>\n",
       "      <td>I-OEt</td>\n",
       "      <td>2</td>\n",
       "      <td>9</td>\n",
       "      <td>16</td>\n",
       "      <td>pcu</td>\n",
       "      <td>2.621272</td>\n",
       "      <td>inf</td>\n",
       "      <td>3.144708</td>\n",
       "    </tr>\n",
       "  </tbody>\n",
       "</table>\n",
       "<p>68613 rows × 15 columns</p>\n",
       "</div>"
      ],
      "text/plain": [
       "              MOFname  volume [A^3]   weight [u]  density [g/cm^3]  \\\n",
       "0          mof_unit_1   1116.667429   875.240600          1.301526   \n",
       "1          mof_unit_2   2769.503842  2211.697211          1.326090   \n",
       "2          mof_unit_3   1089.818728   773.687960          1.178856   \n",
       "3          mof_unit_4   2205.198301  1304.638720          0.982408   \n",
       "4          mof_unit_5   1137.800963   901.736120          1.316020   \n",
       "...               ...           ...          ...               ...   \n",
       "68608  mof_unit_68609   1188.302573  1001.700216          1.399781   \n",
       "68609  mof_unit_68610   1506.660363  1493.296496          1.645811   \n",
       "68610  mof_unit_68611   2035.532738  1959.518320          1.598529   \n",
       "68611  mof_unit_68612   3985.426053  3638.677280          1.516066   \n",
       "68612  mof_unit_68613   1591.009408  2071.219000          2.161736   \n",
       "\n",
       "       surface_area [m^2/g]  void_fraction  void_volume [cm^3/g]  \\\n",
       "0                      0.00        0.07899                0.0607   \n",
       "1                    603.61        0.13794                0.1040   \n",
       "2                    788.50        0.14874                0.1262   \n",
       "3                   1441.53        0.21814                0.2220   \n",
       "4                      0.00        0.07778                0.0591   \n",
       "...                     ...            ...                   ...   \n",
       "68608                  0.00        0.00000                0.0000   \n",
       "68609                  0.00        0.01108                0.0000   \n",
       "68610                  0.00        0.00000                0.0000   \n",
       "68611                  0.00        0.00000                0.0000   \n",
       "68612                  0.00        0.01609                0.0000   \n",
       "\n",
       "      functional_groups  metal_linker  organic_linker1  organic_linker2  \\\n",
       "0              COOH-OEt             3                4               11   \n",
       "1                 F-OMe            10               44               57   \n",
       "2              OMe-COOH             2               22               24   \n",
       "3                H-SO3H             9               17               24   \n",
       "4               NHMe-OH             2                1               22   \n",
       "...                 ...           ...              ...              ...   \n",
       "68608              Pr-F             3                4               24   \n",
       "68609              SO3H            10               42               46   \n",
       "68610               OPr             4               14               22   \n",
       "68611            OPr-Me             4                4               15   \n",
       "68612             I-OEt             2                9               16   \n",
       "\n",
       "      topology  CO2/N2_selectivity  \\\n",
       "0          pcu           22.864166   \n",
       "1          etb           33.616780   \n",
       "2          pcu           19.263726   \n",
       "3          sra           25.701377   \n",
       "4          pcu           30.001838   \n",
       "...        ...                 ...   \n",
       "68608      pcu           24.131770   \n",
       "68609      etb            6.071818   \n",
       "68610      acs            9.876134   \n",
       "68611      acs            5.285051   \n",
       "68612      pcu            2.621272   \n",
       "\n",
       "       heat_adsorption_CO2_P0.15bar_T298K [kcal/mol]  \\\n",
       "0                                           6.786041   \n",
       "1                                           7.147286   \n",
       "2                                           6.347967   \n",
       "3                                           6.190085   \n",
       "4                                           6.478063   \n",
       "...                                              ...   \n",
       "68608                                            NaN   \n",
       "68609                                            NaN   \n",
       "68610                                            NaN   \n",
       "68611                                            inf   \n",
       "68612                                            inf   \n",
       "\n",
       "       CO2_working_capacity [mL/g]  \n",
       "0                       105.284502  \n",
       "1                       101.224774  \n",
       "2                       118.987011  \n",
       "3                       187.626004  \n",
       "4                        79.210001  \n",
       "...                            ...  \n",
       "68608                   -12.943652  \n",
       "68609                   -12.985582  \n",
       "68610                   -13.187635  \n",
       "68611                    15.672698  \n",
       "68612                     3.144708  \n",
       "\n",
       "[68613 rows x 15 columns]"
      ]
     },
     "metadata": {},
     "execution_count": 10
    }
   ],
   "metadata": {
    "tags": [],
    "cell_id": "00021-7e215054-bc59-4a6d-bed6-32fcdb6946ec",
    "deepnote_to_be_reexecuted": false,
    "source_hash": "f804c160",
    "execution_start": 1632653964529,
    "execution_millis": 130,
    "deepnote_cell_type": "code"
   }
  },
  {
   "cell_type": "markdown",
   "source": [
    "## 2. Surface Area (พื้นที่ผิว)"
   ],
   "metadata": {
    "tags": [],
    "cell_id": "00008-0760965a-e827-4cd8-bda9-bab508a06b7f",
    "deepnote_cell_type": "markdown"
   }
  },
  {
   "cell_type": "markdown",
   "source": [
    " $\\color{DarkBlue}{\\textsf{Short question}}$\n",
    "\n",
    "รถมอเตอร์ไซต์คันนี้มีพื้นที่ผิวเท่าไหร่ ?\n",
    "\n",
    "![Picture title](motorcycle.png)"
   ],
   "metadata": {
    "tags": [],
    "cell_id": "00004-ba904be1-2456-4fae-87cc-8388b5e9a991",
    "deepnote_cell_type": "markdown"
   }
  },
  {
   "cell_type": "markdown",
   "source": [
    "พิจารณาระบบดังต่อไปนี้ โดยมีการจำแนกประเภทของพื้นที่ผิวออกเป็น 2 ประเภท\n",
    "1. van der Waals Surface Area\n",
    "2. Solvent-accessible Surface Area (SASA)\n",
    "![Picture title](surface-area.png)"
   ],
   "metadata": {
    "tags": [],
    "cell_id": "00003-4a1c26a0-c973-4586-a6f8-01e01beed210",
    "deepnote_cell_type": "markdown"
   }
  },
  {
   "cell_type": "markdown",
   "source": [
    "Question: ขนาดของ probe มีผลไหม ?"
   ],
   "metadata": {
    "tags": [],
    "cell_id": "00025-bdd981d0-4686-4703-9c8f-e2d00d6ca165",
    "deepnote_cell_type": "markdown"
   }
  },
  {
   "cell_type": "markdown",
   "source": [
    "![Picture title](non-overlap-probes.png)\n",
    "\n",
    "จากรูปด้านบน มีทรงกลม 3 จาก 5 ลูกที่ไม่ซ้อนทับกับอะตอมในโครงสร้างของ MOF เลย ดังนั้น พื้นที่ผิวของระบบนี้คือ $(\\frac{3}{5} * 4πr^{2})$"
   ],
   "metadata": {
    "tags": [],
    "cell_id": "00005-91085d31-af2a-4e19-bee7-0dbfbe854b28",
    "deepnote_cell_type": "markdown"
   }
  },
  {
   "cell_type": "markdown",
   "source": [
    "### 2.1 Define constants (กำหนดค่าคงที่)"
   ],
   "metadata": {
    "tags": [],
    "cell_id": "00002-a6977c44-fe0b-4151-a0ed-1e7e96ff99a3",
    "deepnote_cell_type": "markdown"
   }
  },
  {
   "cell_type": "code",
   "execution_count": null,
   "source": [
    "# default global numbers\n",
    "E = 1e-3\n",
    "PI = np.pi\n",
    "angstrom = 1e-10\n",
    "\n",
    "vdw_radii = {'H': 1.1, 'He': 1.4, 'Li': 1.82, 'Be': 1.53, 'B': 1.92, 'C': 1.7, 'N': 1.55, \n",
    "            'O': 1.52, 'F': 1.47, 'Ne': 1.54, 'Na': 2.27, 'Mg': 1.73, 'Al': 1.84, 'Si': 2.1, \n",
    "            'P': 1.8, 'S': 1.8, 'Cl': 1.75, 'Ar': 1.88, 'K': 2.75, 'Ca': 2.31, 'Sc': 2.15, 'Ti': 2.11, \n",
    "            'V': 2.07, 'Cr': 2.06, 'Mn': 2.05, 'Fe': 2.04, 'Co': 2.0, 'Ni': 1.97, 'Cu': 1.96, 'Zn': 2.01, \n",
    "            'Ga': 1.87, 'Ge': 2.11, 'As': 1.85, 'Se': 1.9, 'Br': 1.85, 'Kr': 2.02, 'Rb': 3.03, 'Sr': 2.49, \n",
    "            'Y': 2.32, 'Zr': 2.23, 'Nb': 2.18, 'Mo': 2.17, 'Tc': 2.16, 'Ru': 2.13, 'Rh': 2.1, 'Pd': 2.1, \n",
    "            'Ag': 2.11, 'Cd': 2.18, 'In': 1.93, 'Sn': 2.17, 'Sb': 2.06, 'Te': 2.06, 'I': 1.98, 'Xe': 2.16, \n",
    "            'Cs': 3.43, 'Ba': 2.68, 'La': 2.43, 'Ce': 2.42, 'Pr': 2.4, 'Nd': 2.39, 'Pm': 2.38, 'Sm': 2.36, \n",
    "            'Eu': 2.35, 'Gd': 2.34, 'Tb': 2.33, 'Dy': 2.31, 'Ho': 2.3, 'Er': 2.29, 'Tm': 2.27, 'Yb': 2.26, \n",
    "            'Lu': 2.24, 'Hf': 2.23, 'Ta': 2.22, 'W': 2.18, 'Re': 2.16, 'Os': 2.16, 'Ir': 2.13, 'Pt': 2.13,\n",
    "            'Au': 2.14, 'Hg': 2.23, 'Tl': 1.96, 'Pb': 2.02, 'Bi': 2.07, 'Po': 1.97, 'At': 2.02, 'Rn': 2.2, \n",
    "            'Fr': 3.48, 'Ra': 2.83, 'Ac': 2.47, 'Th': 2.45, 'Pa': 2.43, 'U': 2.41, 'Np': 2.39, 'Pu': 2.43, \n",
    "            'Am': 2.44, 'Cm': 2.45, 'Bk': 2.44, 'Cf': 2.45, 'Es': 2.45, 'Fm': 2.45, 'Md': 2.46, 'No': 2.46, \n",
    "            'Lr': 2.46}"
   ],
   "outputs": [],
   "metadata": {
    "tags": [],
    "cell_id": "00001-8fbfbcb0-4500-407b-93de-49e11cd1efa3",
    "deepnote_to_be_reexecuted": false,
    "source_hash": "db3d0d43",
    "execution_start": 1632653964656,
    "execution_millis": 17,
    "deepnote_cell_type": "code"
   }
  },
  {
   "cell_type": "markdown",
   "source": [
    "### 2.2 Define functions (สร้างฟังก์ชัน)"
   ],
   "metadata": {
    "tags": [],
    "cell_id": "00028-e6ab61a6-fee3-47f9-adcd-5cc9a609f173",
    "deepnote_cell_type": "markdown"
   }
  },
  {
   "cell_type": "code",
   "execution_count": null,
   "source": [
    "def get_box_parameters(cifname):\n",
    "    \"\"\"\n",
    "    ดึงข้อมูลพารามิเตอร์ของ Unit Cell ของ MOF\n",
    "\n",
    "    cifname : CIF file\n",
    "    \"\"\"\n",
    "    content = open(cifname, 'r').readlines()\n",
    "    for line in content:\n",
    "        if \"_cell_length_a\" in line:\n",
    "            a = float(line.split()[1])\n",
    "        if \"_cell_length_b\" in line:\n",
    "            b = float(line.split()[1])\n",
    "        if \"_cell_length_c\" in line:\n",
    "            c = float(line.split()[1])\n",
    "        if \"_cell_angle_alpha\" in line:\n",
    "            alpha_r = float(line.split()[1]) * PI / 180.0\n",
    "        if \"_cell_angle_beta\" in line:\n",
    "            beta_r = float(line.split()[1]) * PI / 180.0\n",
    "        if \"_cell_angle_gamma\" in line:\n",
    "            gamma_r = float(line.split()[1]) * PI / 180.0\n",
    "\n",
    "    return a, b, c, alpha_r, beta_r, gamma_r"
   ],
   "outputs": [],
   "metadata": {
    "tags": [],
    "cell_id": "00003-3c7cd95d-bbc2-4fb5-b5b5-bc840a0c3ee5",
    "deepnote_to_be_reexecuted": false,
    "source_hash": "4f1ba0f5",
    "execution_start": 1632653964682,
    "execution_millis": 4,
    "deepnote_cell_type": "code"
   }
  },
  {
   "cell_type": "code",
   "execution_count": null,
   "source": [
    "def get_box_matrix(cifname):\n",
    "    \"\"\"\n",
    "    คำนวณ Unit Cell Matrix \n",
    "\n",
    "    cifname : CIF file\n",
    "    \"\"\"\n",
    "    a, b, c, alpha_r, beta_r, gamma_r = get_box_parameters(cifname)\n",
    "\n",
    "    a_x = a\n",
    "    a_y = 0.0\n",
    "    a_z = 0.0\n",
    "    b_x = b * np.cos(gamma_r)\n",
    "    b_y = b * np.sin(gamma_r)\n",
    "    b_z = 0.0\n",
    "    c_x = c * np.cos(beta_r)\n",
    "    c_y = (b * c * np.cos(alpha_r) - b_x * c_x) / b_y\n",
    "    c_z = np.sqrt(c**2 - c_x**2 - c_y**2)\n",
    "\n",
    "    cell_matrix = np.matrix([\n",
    "        [a_x, a_y, a_z], \n",
    "        [b_x, b_y, b_z], \n",
    "        [c_x, c_y, c_z]], \n",
    "        dtype=float)\n",
    "\n",
    "    crs = np.cross([b_x, b_y, b_z], [c_x, c_y, c_z])\n",
    "    inverse_matrix = cell_matrix.I\n",
    "    unit_cell_volume = a_x * crs[0] + a_y * crs[1] + a_z * crs[2]\n",
    "    \n",
    "    return cell_matrix, inverse_matrix, unit_cell_volume"
   ],
   "outputs": [],
   "metadata": {
    "tags": [],
    "cell_id": "00002-ec0f5757-1913-40c4-a162-f946f6388148",
    "deepnote_to_be_reexecuted": false,
    "source_hash": "fe7dbeb6",
    "execution_start": 1632653964692,
    "execution_millis": 8,
    "deepnote_cell_type": "code"
   }
  },
  {
   "cell_type": "code",
   "execution_count": null,
   "source": [
    "def get_atomic_coordinates(cifname):\n",
    "    \"\"\"\n",
    "    ดึงข้อมูล atomic symbol และ Cartesian coordinates\n",
    "    \"\"\"\n",
    "    ase_atoms = read(cifname) \n",
    "    return ase_atoms.get_chemical_symbols(), ase_atoms.get_positions()"
   ],
   "outputs": [],
   "metadata": {
    "tags": [],
    "cell_id": "00007-c8eb18df-f9d7-48b3-b4dc-52a93c90914f",
    "deepnote_to_be_reexecuted": false,
    "source_hash": "fb12e819",
    "execution_start": 1632653964707,
    "execution_millis": 3,
    "deepnote_cell_type": "code"
   }
  },
  {
   "cell_type": "code",
   "execution_count": null,
   "source": [
    "def RandomNumberOnUnitSphere():\n",
    "\tthetha = 0.0\n",
    "\tphi = 0.0\n",
    "\ttheta = 2*PI*np.random.random_sample()\n",
    "\tphi = np.arccos(2*np.random.random_sample()-1.0)\n",
    "\tx = np.cos(theta)*np.sin(phi)\n",
    "\ty = np.sin(theta)*np.sin(phi)\n",
    "\tz = np.cos(phi)\n",
    "\t\n",
    "\treturn x,y,z"
   ],
   "outputs": [],
   "metadata": {
    "tags": [],
    "cell_id": "00005-ee82ba63-1e1b-40e6-bcea-1a3f90099652",
    "deepnote_to_be_reexecuted": false,
    "source_hash": "f76d75e8",
    "execution_start": 1632653964713,
    "execution_millis": 5,
    "deepnote_cell_type": "code"
   }
  },
  {
   "cell_type": "code",
   "execution_count": null,
   "source": [
    "def _dot_product(unit_cell_matrix, atom_positions):\n",
    "    s_x = unit_cell_matrix.item(0) * atom_positions[0] + unit_cell_matrix.item(3) * atom_positions[1] + unit_cell_matrix.item(6) * atom_positions[2]\n",
    "    s_y = unit_cell_matrix.item(1) * atom_positions[0] + unit_cell_matrix.item(4) * atom_positions[1] + unit_cell_matrix.item(7) * atom_positions[2]\n",
    "    s_z = unit_cell_matrix.item(2) * atom_positions[0] + unit_cell_matrix.item(5) * atom_positions[1] + unit_cell_matrix.item(8) * atom_positions[2]\n",
    "    new_coord = np.array([s_x, s_y, s_z], float)\n",
    "    \n",
    "    return new_coord"
   ],
   "outputs": [],
   "metadata": {
    "tags": [],
    "cell_id": "00006-d666131e-3641-4192-ac74-76f9acad38a8",
    "deepnote_to_be_reexecuted": false,
    "source_hash": "3c5f7dd6",
    "execution_start": 1632653964721,
    "execution_millis": 5,
    "deepnote_cell_type": "code"
   }
  },
  {
   "cell_type": "code",
   "execution_count": null,
   "source": [
    "def ApplyBoundaryConditions(vec2, pos, cell_matrix):\n",
    "\tw = [0,0,0]\n",
    "\tx = [0,0,0]\n",
    "\tvec2 = copy.deepcopy(np.asarray(vec2))\n",
    "\tinverse_matrix2 = copy.deepcopy(np.asarray(inverse_matrix))\n",
    "\tfractional = _dot_product(inverse_matrix, vec2)\n",
    "\t# apply boundary conditions\n",
    "\tx[0] = fractional[0] - np.rint(fractional[0])\n",
    "\tx[1] = fractional[1] - np.rint(fractional[1])\n",
    "\tx[2] = fractional[2] - np.rint(fractional[2])\n",
    "\tcartesian = _dot_product(cell_matrix,x)\n",
    "\t\n",
    "\treturn cartesian"
   ],
   "outputs": [],
   "metadata": {
    "tags": [],
    "cell_id": "00007-e47c1858-a76e-4389-9733-c28e8259c0b7",
    "deepnote_to_be_reexecuted": false,
    "source_hash": "7c9dd37f",
    "execution_start": 1632653964729,
    "execution_millis": 3,
    "deepnote_cell_type": "code"
   }
  },
  {
   "cell_type": "code",
   "execution_count": null,
   "source": [
    "def CheckSurfaceAreaOverlap(pAtom, pos, cell_matrix, atom_type, vdW_pAtom, fAtom_b):\n",
    "\t\"\"\"\n",
    "\tตรวจสอบว่า Probe กับอะตอมซ้อนทับกันไหม\n",
    "\t\"\"\"\n",
    "\twell_depth_factor = 1.0\n",
    "\tfAtom_o = [0,0,0]\n",
    "\tdistance = [0,0,0]\n",
    "\t# start enumerating all atoms in the object\n",
    "\tfor i, elem in enumerate(pos):\n",
    "\t\tfAtom_o = copy.deepcopy(elem)\n",
    "\t\tif not np.array_equal(fAtom_o,fAtom_b):\n",
    "\t\t\tvdW_fAtom = vdw_radii.get(atom_type[i])\n",
    "\t\t\tequilibrium_distance = well_depth_factor * 0.5 * (vdW_pAtom + vdW_fAtom)\n",
    "\t\t\tfAtom_o = _dot_product(cell_matrix,fAtom_o)\n",
    "\t\t\tdistance[0] = pAtom[0] - fAtom_o[0]\n",
    "\t\t\tdistance[1] = pAtom[1] - fAtom_o[1]\n",
    "\t\t\tdistance[2] = pAtom[2] - fAtom_o[2]\n",
    "\t\t\tdr = ApplyBoundaryConditions(distance, pos, cell_matrix)\n",
    "\t\t\trr = (dr[0] * dr[0]) + (dr[1] * dr[1]) + (dr[2] * dr[2])\n",
    "\t\t\tif rr < (equilibrium_distance * equilibrium_distance):\n",
    "\t\t\t\treturn True\n",
    "\t\t\t\t\n",
    "\treturn False"
   ],
   "outputs": [],
   "metadata": {
    "tags": [],
    "cell_id": "00008-a4bf43ad-aab6-46c6-a4da-8c1d6724e49d",
    "deepnote_to_be_reexecuted": false,
    "source_hash": "e72ad6da",
    "execution_start": 1632653964741,
    "execution_millis": 3,
    "deepnote_cell_type": "code"
   }
  },
  {
   "cell_type": "code",
   "execution_count": null,
   "source": [
    "def gsa(atom_type, pos, cell_matrix, inverse_matrix, unit_cell_volume, probe_diameter=1.0, nSample=20, equilibrium_distance=0.0, InsertTypeOfAtoms=None):\n",
    "\t\n",
    "\t\"\"\"\n",
    "\tComputes geometric surface area (GSA) of atoms. Return GSA in m^2/cm^3.\n",
    "\n",
    "\tatom_type : type of atom\n",
    "\tpos : coordinates\n",
    "\tcell_matrix : Crystall cell matrix (A, B, C)\n",
    "\tinverse_matrix: Inverse of crystall cell matrix\n",
    "\tprobe_diameter : Diameter of a probe\n",
    "\tnSample : Number of sample probes\n",
    "\tequilibrium_distance = Equilibrium distance upon probe and atom in structure\n",
    "\tInsertTypeOfAtoms = Type of atom insert\n",
    "\t\"\"\"\n",
    "\ttotal = 0.0\n",
    "\tcounted = 0.0\n",
    "\tvec = []\n",
    "\texamined_coordinates = []\n",
    "\tSurfaceAreaAverage = 0.0\n",
    "\twell_depth_factor = 1.0\n",
    "\t\n",
    "\t# start enumerating all atoms in the framework\n",
    "\tfor i, elem in enumerate(atom_type):\n",
    "\t\ttotal=0.0\n",
    "\t\tcounted=0.0\n",
    "\t\tif np.linalg.norm([pos[i][0], pos[i][1], pos[i][2]]) not in examined_coordinates:\n",
    "\t\t\t# check atomType to see if we want to insert probes around the atom\n",
    "\t\t\tif InsertTypeOfAtoms is atom_type[i]:\n",
    "\t\t\t\tvdW_fAtom = vdw_radii.get(elem)\n",
    "\t\t\t\t# Lorentz rule of mixing hard spheres \n",
    "\t\t\t\tequilibrium_distance = well_depth_factor * (0.5 * (probe_diameter + vdW_fAtom))\n",
    "\t\t\t\t# start MC sampling for a given #\n",
    "\t\t\t\tfor attempt in range(nSample):\n",
    "\t\t\t\t\tpAtom = np.array([0.0, 0.0, 0.0], float)\n",
    "\t\t\t\t\ttotal += 1\n",
    "\t\t\t\t\t# find a random number around the sphere\n",
    "\t\t\t\t\tvec = RandomNumberOnUnitSphere()\n",
    "\t\t\t\t\t# calculate the coordinates of the center of probe using vec and equilibrium distance\n",
    "\t\t\t\t\tpAtom[0] = pos[i][0]+vec[0]*equilibrium_distance\n",
    "\t\t\t\t\tpAtom[1] = pos[i][1]+vec[1]*equilibrium_distance\n",
    "\t\t\t\t\tpAtom[2] = pos[i][2]+vec[2]*equilibrium_distance\n",
    "\t\t\t\t\t# store the x,y,z coordinates of probe in an array\n",
    "\t\t\t\t\tvec2 = np.array([pAtom[0], pAtom[1], pAtom[2]])\n",
    "\t\t\t\t\t# check for the overlap between probe and the other framework atoms\n",
    "\t\t\t\t\toverlap = CheckSurfaceAreaOverlap(pAtom, pos, cell_matrix, atom_type, probe_diameter, pos[i])\n",
    "\t\t\t\t\tif not overlap:\n",
    "\t\t\t\t\t\tcounted += 1\n",
    "\n",
    "\t\t\t\t# print(\"fraction of insertion near\", atom_type[i], \"is\", counted/total)\n",
    "\t\t\t\ttmp = (counted/total)*4.0*PI*(equilibrium_distance * equilibrium_distance)\n",
    "\n",
    "\t\t\t\tSurfaceAreaAverage += tmp\n",
    "\t\t\t\ttmp2 = np.array([pos[i][0], pos[i][1], pos[i][2]])\n",
    "\t\t\t\texamined_coordinates.append(np.linalg.norm(tmp2))\n",
    "\n",
    "\t# print (\"Surface Area in Ang^2: \", SurfaceAreaAverage)\n",
    "\t# print (\"volume of unit cell: \", unit_cell_volume)\n",
    "\t# print (\"Surface Area in m^2/cm^3: \", 1e4*SurfaceAreaAverage/unit_cell_volume)\n",
    "\t\n",
    "\treturn 1e4*SurfaceAreaAverage/unit_cell_volume"
   ],
   "outputs": [],
   "metadata": {
    "tags": [],
    "cell_id": "00017-9d11bbf8-f70e-44b4-926a-136475318b8c",
    "deepnote_to_be_reexecuted": false,
    "source_hash": "b9755a7e",
    "execution_start": 1632653964753,
    "execution_millis": 3,
    "deepnote_cell_type": "code"
   }
  },
  {
   "cell_type": "code",
   "execution_count": null,
   "source": [
    "def vsa(atom_type, pos, cell_matrix, unit_cell_volume, probe_diameter=1.0, nSample=20, total=0, equilibrium_distance=0.0):\n",
    "\t\"\"\"\n",
    "\tComputes the volumetric surface area (VSA) of atoms. Return VSA in m^2/cm3.\n",
    "\n",
    "\tatom_type : type of atom\n",
    "\tpos : coordinates\n",
    "\tcell_matrix : Crystall cell matrix (A, B, C)\n",
    "\tprobe_diameter : Diameter of a probe\n",
    "\tnSample : Number of sample probes\n",
    "\tequilibrium_distance = Equilibrium distance upon probe and atom in structure\n",
    "\t\"\"\"\n",
    "\tcounted = 0.0\n",
    "\tvec = np.zeros((1,3), float)\n",
    "\tSurfaceAreaAverage = 0.0\n",
    "\twell_depth_factor = 1.0\n",
    "\tfractional_list = []\n",
    "\n",
    "\t# start enumerating all atoms in the framework\n",
    "\tfor i, elem in enumerate(atom_type):\n",
    "\t\ttotal = 0.0\n",
    "\t\tcounted = 0.0\n",
    "\t\tvdW_fAtom = vdw_radii.get(elem)\n",
    "\t\t# Lorentz rule of mixing hard spheres \n",
    "\t\tequilibrium_distance = well_depth_factor * 0.5 * (probe_diameter + vdW_fAtom)\n",
    "\n",
    "\t\t# start MC sampling for a given #\n",
    "\t\tfor attempt in range(nSample):\n",
    "\t\t\tpAtom = np.array([0.0, 0.0, 0.0], float)\n",
    "\t\t\ttotal += 1\n",
    "\t\t\t# find a random number around the sphere\n",
    "\t\t\tvec = RandomNumberOnUnitSphere()\n",
    "\t\t\t# calculate the coordinates of the center of probe using vec and equilibrium distance\n",
    "\t\t\tfAtom_xyz = _dot_product(cell_matrix, pos[i])\n",
    "\t\t\tpAtom[0] = fAtom_xyz[0] + vec[0]*equilibrium_distance\n",
    "\t\t\tpAtom[1] = fAtom_xyz[1] + vec[1]*equilibrium_distance\n",
    "\t\t\tpAtom[2] = fAtom_xyz[2] + vec[2]*equilibrium_distance\n",
    "\n",
    "\t\t\t# check for the overlap between probe and the other framework atoms\n",
    "\t\t\toverlap = CheckSurfaceAreaOverlap(pAtom, pos, cell_matrix, atom_type, probe_diameter, pos[i])\n",
    "\t\t\tif not overlap:\n",
    "\t\t\t\tcounted += 1\n",
    "\n",
    "\t\ttmp = (counted/total)*4.0*PI*(equilibrium_distance * equilibrium_distance)\n",
    "\n",
    "\t\tSurfaceAreaAverage += tmp\n",
    "\t\tfractional_list.append([elem[0], counted / total, tmp, 1.0e4*tmp/unit_cell_volume])\n",
    "\t\t# print(i, \" out of \", len(atom_type))\n",
    "\n",
    "\t# fractional_list.sort(key=itemgetter(0))\n",
    "\n",
    "\t# file_out = open('freq.txt', 'w')\n",
    "\t# for index, items in groupby(fractional_list, itemgetter(0)):\n",
    "\t# \tsum_area = 0.0\n",
    "\t# \tfor atom in items:\n",
    "\t# \t\tsum_area += atom[2]\n",
    "\t# \t\tfile_out.write('\\t'.join(str(i) for i in atom) + '\\n')\n",
    "\n",
    "\treturn 1.0e4*SurfaceAreaAverage/unit_cell_volume"
   ],
   "outputs": [],
   "metadata": {
    "tags": [],
    "cell_id": "00000-ffbdfc53-c6d8-4899-9cb3-d62c5f475d27",
    "deepnote_to_be_reexecuted": false,
    "source_hash": "3738be48",
    "execution_start": 1632653964764,
    "execution_millis": 2,
    "deepnote_cell_type": "code"
   }
  },
  {
   "cell_type": "markdown",
   "source": [
    "### 2.3 Let's try estimating GSA and VSA"
   ],
   "metadata": {
    "tags": [],
    "cell_id": "00040-0a78ca41-cce8-4e12-97e8-d4681f661051",
    "deepnote_cell_type": "markdown"
   }
  },
  {
   "cell_type": "code",
   "execution_count": null,
   "source": [
    "# MOF10\n",
    "df.iloc[9]"
   ],
   "outputs": [
    {
     "output_type": "execute_result",
     "data": {
      "text/plain": [
       "MOFname                                          mof_unit_10\n",
       "volume [A^3]                                      4275.42142\n",
       "weight [u]                                          1606.196\n",
       "density [g/cm^3]                                    0.623834\n",
       "surface_area [m^2/g]                                 3276.11\n",
       "void_fraction                                        0.41004\n",
       "void_volume [cm^3/g]                                  0.6573\n",
       "functional_groups                                    NHMe-OH\n",
       "metal_linker                                               3\n",
       "organic_linker1                                           13\n",
       "organic_linker2                                           29\n",
       "topology                                                 pcu\n",
       "CO2/N2_selectivity                                 10.999299\n",
       "heat_adsorption_CO2_P0.15bar_T298K [kcal/mol]       5.539327\n",
       "CO2_working_capacity [mL/g]                        59.739057\n",
       "Name: 9, dtype: object"
      ]
     },
     "metadata": {},
     "execution_count": 21
    }
   ],
   "metadata": {
    "tags": [],
    "cell_id": "00041-d855e7b3-fb5a-4451-b4a1-a8ecf71aaa6e",
    "deepnote_to_be_reexecuted": false,
    "source_hash": "a16b7b11",
    "execution_start": 1632653964809,
    "execution_millis": 6,
    "deepnote_cell_type": "code"
   }
  },
  {
   "cell_type": "code",
   "execution_count": null,
   "source": [
    "cifname = \"../dataset/mof_unit_10.cif\"\n",
    "\n",
    "cell_matrix, inverse_matrix, unit_cell_volume = get_box_matrix(cifname)\n",
    "atom_type, pos = get_atomic_coordinates(cifname)"
   ],
   "outputs": [
    {
     "output_type": "error",
     "ename": "NameError",
     "evalue": "name 'read' is not defined",
     "traceback": [
      "\u001b[0;31m---------------------------------------------------------------------------\u001b[0m",
      "\u001b[0;31mNameError\u001b[0m                                 Traceback (most recent call last)",
      "\u001b[0;32m/tmp/ipykernel_137/426373854.py\u001b[0m in \u001b[0;36m<module>\u001b[0;34m\u001b[0m\n\u001b[1;32m      2\u001b[0m \u001b[0;34m\u001b[0m\u001b[0m\n\u001b[1;32m      3\u001b[0m \u001b[0mcell_matrix\u001b[0m\u001b[0;34m,\u001b[0m \u001b[0minverse_matrix\u001b[0m\u001b[0;34m,\u001b[0m \u001b[0munit_cell_volume\u001b[0m \u001b[0;34m=\u001b[0m \u001b[0mget_box_matrix\u001b[0m\u001b[0;34m(\u001b[0m\u001b[0mcifname\u001b[0m\u001b[0;34m)\u001b[0m\u001b[0;34m\u001b[0m\u001b[0;34m\u001b[0m\u001b[0m\n\u001b[0;32m----> 4\u001b[0;31m \u001b[0matom_type\u001b[0m\u001b[0;34m,\u001b[0m \u001b[0mpos\u001b[0m \u001b[0;34m=\u001b[0m \u001b[0mget_atomic_coordinates\u001b[0m\u001b[0;34m(\u001b[0m\u001b[0mcifname\u001b[0m\u001b[0;34m)\u001b[0m\u001b[0;34m\u001b[0m\u001b[0;34m\u001b[0m\u001b[0m\n\u001b[0m",
      "\u001b[0;32m/tmp/ipykernel_137/3732849207.py\u001b[0m in \u001b[0;36mget_atomic_coordinates\u001b[0;34m(cifname)\u001b[0m\n\u001b[1;32m      3\u001b[0m     \u001b[0mด\u001b[0m\u001b[0;31mึ\u001b[0m\u001b[0mงข\u001b[0m\u001b[0;31m้\u001b[0m\u001b[0mอม\u001b[0m\u001b[0;31mู\u001b[0m\u001b[0mล\u001b[0m \u001b[0matomic\u001b[0m \u001b[0msymbol\u001b[0m \u001b[0mและ\u001b[0m \u001b[0mCartesian\u001b[0m \u001b[0mcoordinates\u001b[0m\u001b[0;34m\u001b[0m\u001b[0;34m\u001b[0m\u001b[0m\n\u001b[1;32m      4\u001b[0m     \"\"\"\n\u001b[0;32m----> 5\u001b[0;31m     \u001b[0mase_atoms\u001b[0m \u001b[0;34m=\u001b[0m \u001b[0mread\u001b[0m\u001b[0;34m(\u001b[0m\u001b[0mcifname\u001b[0m\u001b[0;34m)\u001b[0m\u001b[0;34m\u001b[0m\u001b[0;34m\u001b[0m\u001b[0m\n\u001b[0m\u001b[1;32m      6\u001b[0m     \u001b[0;32mreturn\u001b[0m \u001b[0mase_atoms\u001b[0m\u001b[0;34m.\u001b[0m\u001b[0mget_chemical_symbols\u001b[0m\u001b[0;34m(\u001b[0m\u001b[0;34m)\u001b[0m\u001b[0;34m,\u001b[0m \u001b[0mase_atoms\u001b[0m\u001b[0;34m.\u001b[0m\u001b[0mget_positions\u001b[0m\u001b[0;34m(\u001b[0m\u001b[0;34m)\u001b[0m\u001b[0;34m\u001b[0m\u001b[0;34m\u001b[0m\u001b[0m\n",
      "\u001b[0;31mNameError\u001b[0m: name 'read' is not defined"
     ]
    }
   ],
   "metadata": {
    "tags": [],
    "cell_id": "00038-6f5f75f8-3848-428f-967d-0780db92bf6f",
    "deepnote_to_be_reexecuted": false,
    "source_hash": "ca403176",
    "execution_start": 1632653964810,
    "execution_millis": 173,
    "deepnote_cell_type": "code"
   }
  },
  {
   "cell_type": "code",
   "execution_count": null,
   "source": [
    "# GSA\n",
    "gsa_sum = 0\n",
    "for i in set(atom_type):\n",
    "    gsa_ = gsa(atom_type, pos, cell_matrix, inverse_matrix, unit_cell_volume, probe_diameter=3.40, nSample=30, InsertTypeOfAtoms=i)\n",
    "    gsa_sum += gsa_\n",
    "gsa_sum\n",
    "# look at Sample in moticalo it can increase to be more accrate(near3276)"
   ],
   "outputs": [
    {
     "output_type": "error",
     "ename": "NameError",
     "evalue": "name 'atom_type' is not defined",
     "traceback": [
      "\u001b[0;31m---------------------------------------------------------------------------\u001b[0m",
      "\u001b[0;31mNameError\u001b[0m                                 Traceback (most recent call last)",
      "\u001b[0;32m/tmp/ipykernel_225/2218540706.py\u001b[0m in \u001b[0;36m<module>\u001b[0;34m\u001b[0m\n\u001b[1;32m      1\u001b[0m \u001b[0;31m# GSA\u001b[0m\u001b[0;34m\u001b[0m\u001b[0;34m\u001b[0m\u001b[0;34m\u001b[0m\u001b[0m\n\u001b[1;32m      2\u001b[0m \u001b[0mgsa_sum\u001b[0m \u001b[0;34m=\u001b[0m \u001b[0;36m0\u001b[0m\u001b[0;34m\u001b[0m\u001b[0;34m\u001b[0m\u001b[0m\n\u001b[0;32m----> 3\u001b[0;31m \u001b[0;32mfor\u001b[0m \u001b[0mi\u001b[0m \u001b[0;32min\u001b[0m \u001b[0mset\u001b[0m\u001b[0;34m(\u001b[0m\u001b[0matom_type\u001b[0m\u001b[0;34m)\u001b[0m\u001b[0;34m:\u001b[0m\u001b[0;34m\u001b[0m\u001b[0;34m\u001b[0m\u001b[0m\n\u001b[0m\u001b[1;32m      4\u001b[0m     \u001b[0mgsa_\u001b[0m \u001b[0;34m=\u001b[0m \u001b[0mgsa\u001b[0m\u001b[0;34m(\u001b[0m\u001b[0matom_type\u001b[0m\u001b[0;34m,\u001b[0m \u001b[0mpos\u001b[0m\u001b[0;34m,\u001b[0m \u001b[0mcell_matrix\u001b[0m\u001b[0;34m,\u001b[0m \u001b[0minverse_matrix\u001b[0m\u001b[0;34m,\u001b[0m \u001b[0munit_cell_volume\u001b[0m\u001b[0;34m,\u001b[0m \u001b[0mprobe_diameter\u001b[0m\u001b[0;34m=\u001b[0m\u001b[0;36m3.40\u001b[0m\u001b[0;34m,\u001b[0m \u001b[0mnSample\u001b[0m\u001b[0;34m=\u001b[0m\u001b[0;36m30\u001b[0m\u001b[0;34m,\u001b[0m \u001b[0mInsertTypeOfAtoms\u001b[0m\u001b[0;34m=\u001b[0m\u001b[0mi\u001b[0m\u001b[0;34m)\u001b[0m\u001b[0;34m\u001b[0m\u001b[0;34m\u001b[0m\u001b[0m\n\u001b[1;32m      5\u001b[0m     \u001b[0mgsa_sum\u001b[0m \u001b[0;34m+=\u001b[0m \u001b[0mgsa_\u001b[0m\u001b[0;34m\u001b[0m\u001b[0;34m\u001b[0m\u001b[0m\n",
      "\u001b[0;31mNameError\u001b[0m: name 'atom_type' is not defined"
     ]
    }
   ],
   "metadata": {
    "tags": [],
    "cell_id": "00039-f32b559d-42bc-4d36-896e-deba0137d90c",
    "deepnote_to_be_reexecuted": true,
    "source_hash": "599ec0d1",
    "execution_start": 1632040653763,
    "execution_millis": 16,
    "deepnote_cell_type": "code"
   }
  },
  {
   "cell_type": "code",
   "execution_count": null,
   "source": [
    "gsa_sum / 0.6238338736301693"
   ],
   "outputs": [
    {
     "output_type": "execute_result",
     "data": {
      "text/plain": [
       "0.0"
      ]
     },
     "metadata": {},
     "execution_count": 28
    }
   ],
   "metadata": {
    "tags": [],
    "cell_id": "00043-d8dc8549-34f0-4b82-bd72-110cb99e69c4",
    "deepnote_to_be_reexecuted": true,
    "source_hash": "a7bc7149",
    "execution_start": 1632040655495,
    "execution_millis": 10,
    "deepnote_cell_type": "code"
   }
  },
  {
   "cell_type": "code",
   "execution_count": null,
   "source": [
    "# VSA\n",
    "vsa(atom_type, pos, cell_matrix, unit_cell_volume, probe_diameter=3.40, nSample=30)"
   ],
   "outputs": [
    {
     "output_type": "error",
     "ename": "NameError",
     "evalue": "name 'atom_type' is not defined",
     "traceback": [
      "\u001b[0;31m---------------------------------------------------------------------------\u001b[0m",
      "\u001b[0;31mNameError\u001b[0m                                 Traceback (most recent call last)",
      "\u001b[0;32m/tmp/ipykernel_225/1387536179.py\u001b[0m in \u001b[0;36m<module>\u001b[0;34m\u001b[0m\n\u001b[1;32m      1\u001b[0m \u001b[0;31m# VSA\u001b[0m\u001b[0;34m\u001b[0m\u001b[0;34m\u001b[0m\u001b[0;34m\u001b[0m\u001b[0m\n\u001b[0;32m----> 2\u001b[0;31m \u001b[0mvsa\u001b[0m\u001b[0;34m(\u001b[0m\u001b[0matom_type\u001b[0m\u001b[0;34m,\u001b[0m \u001b[0mpos\u001b[0m\u001b[0;34m,\u001b[0m \u001b[0mcell_matrix\u001b[0m\u001b[0;34m,\u001b[0m \u001b[0munit_cell_volume\u001b[0m\u001b[0;34m,\u001b[0m \u001b[0mprobe_diameter\u001b[0m\u001b[0;34m=\u001b[0m\u001b[0;36m3.40\u001b[0m\u001b[0;34m,\u001b[0m \u001b[0mnSample\u001b[0m\u001b[0;34m=\u001b[0m\u001b[0;36m30\u001b[0m\u001b[0;34m)\u001b[0m\u001b[0;34m\u001b[0m\u001b[0;34m\u001b[0m\u001b[0m\n\u001b[0m",
      "\u001b[0;31mNameError\u001b[0m: name 'atom_type' is not defined"
     ]
    }
   ],
   "metadata": {
    "tags": [],
    "cell_id": "00001-74743f63-54ad-4544-82b7-d478e2a06d1d",
    "deepnote_to_be_reexecuted": true,
    "source_hash": "fdd7df4e",
    "execution_start": 1632040657805,
    "execution_millis": 12,
    "deepnote_cell_type": "code"
   }
  },
  {
   "cell_type": "code",
   "execution_count": null,
   "source": [],
   "outputs": [],
   "metadata": {
    "tags": [],
    "cell_id": "00046-0e97902d-3d18-4c73-a44b-5f654c8393d0",
    "deepnote_to_be_reexecuted": true,
    "source_hash": "b623e53d",
    "deepnote_cell_type": "code"
   }
  },
  {
   "cell_type": "markdown",
   "source": [
    "<a style='text-decoration:none;line-height:16px;display:flex;color:#5B5B62;padding:10px;justify-content:end;' href='https://deepnote.com?utm_source=created-in-deepnote-cell&projectId=93f91aea-7a8c-4ac3-b8e5-25215a6d7270' target=\"_blank\">\n",
    "<img alt='Created in deepnote.com' style='display:inline;max-height:16px;margin:0px;margin-right:7.5px;' src='data:image/svg+xml;base64,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' > </img>\n",
    "Created in <span style='font-weight:600;margin-left:4px;'>Deepnote</span></a>"
   ],
   "metadata": {
    "tags": [],
    "created_in_deepnote_cell": true,
    "deepnote_cell_type": "markdown"
   }
  }
 ],
 "nbformat": 4,
 "nbformat_minor": 2,
 "metadata": {
  "orig_nbformat": 2,
  "deepnote": {
   "is_reactive": false
  },
  "deepnote_notebook_id": "bbd290f1-ae6d-4b30-b55e-c2f74ed8401b",
  "deepnote_execution_queue": [],
  "language_info": {
   "name": "python"
  }
 }
}